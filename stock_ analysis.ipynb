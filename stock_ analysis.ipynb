{
 "cells": [
  {
   "cell_type": "markdown",
   "id": "76ac5100",
   "metadata": {},
   "source": [
    "# Основные переменные"
   ]
  },
  {
   "cell_type": "code",
   "execution_count": null,
   "id": "1c9af3c7",
   "metadata": {},
   "outputs": [],
   "source": [
    "\"\"\"\n",
    "Неликвид:\n",
    "С - по АБС группам (А, В, С)\n",
    "N-- по индексу неликвидности (N--, N-, N, N+, N++)\n",
    "\n",
    "Основные переменные:\n",
    "\n",
    "lst_top_20       - список ТОП 20\n",
    "lst_brand_name   - список брендов ['SKF', 'FAG', 'NSK', 'TIMKEN', 'SNR', 'KOYO']\n",
    "\n",
    "df_stock         - все остатки понедельно\n",
    "df_stock_tip     - все остатки понедельно, сгруппированы по TIP/ГОСТ (group_by)\n",
    "\n",
    "df_sales         - данные по всем продажам и счетам\n",
    "df_order         - отгрузки\n",
    "df_bill          - выставлены счета, без отгрузки\n",
    "df_order_tip     - все продажи понедельно, сгруппированы по TIP/ГОСТ (pivot_table)\n",
    "\n",
    "lst_stock_sort   - отсортированный список недель (остатки = продажи)\n",
    "cg               - список для контроля данных по code_1c и GOST \n",
    "\n",
    "\"\"\";"
   ]
  },
  {
   "cell_type": "markdown",
   "id": "b0f9f3fa",
   "metadata": {},
   "source": [
    "# Загрузка библиотек"
   ]
  },
  {
   "cell_type": "code",
   "execution_count": null,
   "id": "1774d478",
   "metadata": {},
   "outputs": [],
   "source": [
    "# загрузка библиотек\n",
    "import pandas as pd\n",
    "# устанавливаем отображение до 3-х знаков после запятой\n",
    "pd.set_option('display.float_format', lambda x: '%.3f' % x)\n",
    "\n",
    "import numpy as np\n",
    "import re\n",
    "\n",
    "import datetime as DT\n",
    "from datetime import datetime, date\n",
    "\n",
    "from xlsxwriter.workbook import Workbook"
   ]
  },
  {
   "cell_type": "code",
   "execution_count": null,
   "id": "bc28d10b",
   "metadata": {},
   "outputs": [],
   "source": [
    "# время начала выполнения проекта\n",
    "time_project_start = DT.datetime.now(DT.timezone.utc).astimezone()"
   ]
  },
  {
   "cell_type": "code",
   "execution_count": 5,
   "id": "94d31e13-e247-4af8-b8c5-360af8c64d57",
   "metadata": {},
   "outputs": [],
   "source": [
    "# функции для загрузки данных\n",
    "import os\n",
    "import sys\n",
    "\n",
    "# определяем абсолютный путь к папке с функциями\n",
    "abs_path = os.path.abspath('C:/Users/Andrew/08_energy/01_functions')\n",
    "sys.path.append(abs_path)\n",
    "\n",
    "# загружаем функции:\n",
    "# загрузка данных по продажам\n",
    "# загрузка данных по остаткам (2024 и 2025 год)\n",
    "from def_load_data import load_of_sales, load_of_stock_by_week\n",
    "\n",
    "# загружаем функцию сортировки недель\n",
    "from def_weeks_sort import weeks_sort"
   ]
  },
  {
   "cell_type": "markdown",
   "id": "212c22a1",
   "metadata": {},
   "source": [
    "# Журнал событий"
   ]
  },
  {
   "cell_type": "code",
   "execution_count": null,
   "id": "1d28bd7e",
   "metadata": {},
   "outputs": [
    {
     "name": "stdout",
     "output_type": "stream",
     "text": [
      "Журнал событий:\n",
      "Время начала выполнения проекта: 2025-07-08 15:40:18.203387+03:00\n",
      " \n"
     ]
    }
   ],
   "source": [
    "class PrinterWithStorage:\n",
    "    # инициализация списка для хранения данных\n",
    "    def __init__(self):\n",
    "        self.cg = []\n",
    "    \n",
    "    def __call__(self, *args):\n",
    "        print(*args)  # печать аргументов\n",
    "        if args:      \n",
    "            self.cg.append(args[0] if len(args) == 1 else args) # Добавление аргументов\n",
    "    \n",
    "    def show_storage(self):\n",
    "        # метод для вывода содержимого cg\n",
    "        print(\"Содержимое cg:\", self.cg)\n",
    "\n",
    "# printer(1, 2, 3)  # добавит кортеж (1, 2, 3) в cg\n",
    "\n",
    "# Варианты вывода cg:\n",
    "# print(printer.cg)              # прямой доступ\n",
    "# printer.show_storage()         # через метод \n",
    "# print(printer)                 # через __repr__\n",
    "# print(vars(printer)['cg')      # через словарь атрибутов\n",
    "\n",
    "# использование:\n",
    "printer = PrinterWithStorage()\n",
    "printer(\"Журнал событий:\")\n",
    "printer(\"Время начала выполнения проекта:\", str(time_project_start))\n",
    "printer(\" \")\n"
   ]
  },
  {
   "cell_type": "markdown",
   "id": "a87d9944",
   "metadata": {},
   "source": [
    "# stop_errors"
   ]
  },
  {
   "cell_type": "code",
   "execution_count": 7,
   "id": "55fe4bcc",
   "metadata": {},
   "outputs": [],
   "source": [
    "# если объявить переменную, учтенные ошибки будут игнорироваться\n",
    "# stop_errors ='ignore'"
   ]
  },
  {
   "cell_type": "markdown",
   "id": "e59a7fc9-1f34-4f19-9447-7e98c66a53a1",
   "metadata": {},
   "source": [
    "# Загрузка данных"
   ]
  },
  {
   "cell_type": "markdown",
   "id": "8c897ff9",
   "metadata": {},
   "source": [
    "## Загружаем продажи: df_sales"
   ]
  },
  {
   "cell_type": "code",
   "execution_count": null,
   "id": "0e842110",
   "metadata": {},
   "outputs": [],
   "source": [
    "# формируем словарь с типом данных\n",
    "columns_str_sales = ['bill_date','bill_number','bill_close_date',\n",
    "                     'bill_close_why','bill_manager','source',\n",
    "                     'order_date','order_number','manager_client',\n",
    "                     'manager_additional_1','manager_additional_2',\n",
    "                     'manager_additional_3','client_inn','client_name','head_inn',\n",
    "                     'head_name','code_1c','tip_product','name_1c','purch_inn',\n",
    "                     'purch_name','purch_date','purch_number',\n",
    "                     ]\n",
    "\n",
    "columns_float_sales = ['bill_count','bill_price','order_count',\n",
    "                       'order_weight_psc','order_weight','order_price',\n",
    "                       'order_sum','purch_count','purch_price',\n",
    "                       'purch_sum','price_last_pur','sum_last_pur',\n",
    "                       'cost_price','cost_sum','margin_master'\n",
    "                       ]\n",
    "\n",
    "\n",
    "dict_sales = dict.fromkeys(columns_str_sales, str)\n",
    "dict_sales.update(dict.fromkeys(columns_float_sales, float))\n",
    "\n",
    "# загрузка данных: продажи\n",
    "df_sales = pd.read_excel(\n",
    "    io=r'C:\\Users\\Andrew\\08_energy\\00_in_data\\df_sales.xlsx',\n",
    "    engine='openpyxl',\n",
    "    header=0,\n",
    "    converters=dict_sales)"
   ]
  },
  {
   "cell_type": "markdown",
   "id": "f00d336a",
   "metadata": {},
   "source": [
    "## Загружаем остатки: df_stock"
   ]
  },
  {
   "cell_type": "code",
   "execution_count": null,
   "id": "8eecd5e6",
   "metadata": {},
   "outputs": [],
   "source": [
    "# формируем словарь с типом данных\n",
    "columns_str_stock = ['tip_product','brand','code_1c',\n",
    "                     '01.10.2021 0:00:00','04.10.2021 0:00:00','11.10.2021 0:00:00','18.10.2021 0:00:00','25.10.2021 0:00:00','01.11.2021 0:00:00','08.11.2021 0:00:00','15.11.2021 0:00:00','22.11.2021 0:00:00','29.11.2021 0:00:00','06.12.2021 0:00:00','13.12.2021 0:00:00','20.12.2021 0:00:00','27.12.2021 0:00:00','10.01.2022 0:00:00','17.01.2022 0:00:00','24.01.2022 0:00:00','31.01.2022 0:00:00','07.02.2022 0:00:00','14.02.2022 0:00:00','21.02.2022 0:00:00','28.02.2022 0:00:00','07.03.2022 0:00:00','14.03.2022 0:00:00','21.03.2022 0:00:00','28.03.2022 0:00:00','04.04.2022 0:00:00','11.04.2022 0:00:00','18.04.2022 0:00:00','25.04.2022 0:00:00','02.05.2022 0:00:00','09.05.2022 0:00:00','16.05.2022 0:00:00','23.05.2022 0:00:00','30.05.2022 0:00:00','06.06.2022 0:00:00','13.06.2022 0:00:00','20.06.2022 0:00:00','27.06.2022 0:00:00','04.07.2022 0:00:00','11.07.2022 0:00:00','18.07.2022 0:00:00','25.07.2022 0:00:00','01.08.2022 0:00:00','08.08.2022 0:00:00','15.08.2022 0:00:00','22.08.2022 0:00:00','29.08.2022 0:00:00','05.09.2022 0:00:00','12.09.2022 0:00:00','19.09.2022 0:00:00','26.09.2022 0:00:00','03.10.2022 0:00:00','10.10.2022 0:00:00','17.10.2022 0:00:00','24.10.2022 0:00:00','31.10.2022 0:00:00','07.11.2022 0:00:00','14.11.2022 0:00:00','21.11.2022 0:00:00','28.11.2022 0:00:00','05.12.2022 0:00:00','12.12.2022 0:00:00','19.12.2022 0:00:00','26.12.2022 0:00:00','09.01.2023 0:00:00','16.01.2023 0:00:00','23.01.2023 0:00:00','30.01.2023 0:00:00','06.02.2023 0:00:00','13.02.2023 0:00:00','20.02.2023 0:00:00','27.02.2023 0:00:00','06.03.2023 0:00:00','13.03.2023 0:00:00','20.03.2023 0:00:00','27.03.2023 0:00:00','03.04.2023 0:00:00','10.04.2023 0:00:00','17.04.2023 0:00:00','24.04.2023 0:00:00','01.05.2023 0:00:00','08.05.2023 0:00:00','15.05.2023 0:00:00','22.05.2023 0:00:00','29.05.2023 0:00:00','05.06.2023 0:00:00','12.06.2023 0:00:00','19.06.2023 0:00:00','26.06.2023 0:00:00','03.07.2023 0:00:00','10.07.2023 0:00:00','17.07.2023 0:00:00','24.07.2023 0:00:00','31.07.2023 0:00:00','07.08.2023 0:00:00','14.08.2023 0:00:00','21.08.2023 0:00:00','28.08.2023 0:00:00','04.09.2023 0:00:00','11.09.2023 0:00:00','18.09.2023 0:00:00','25.09.2023 0:00:00','02.10.2023 0:00:00','09.10.2023 0:00:00','16.10.2023 0:00:00','23.10.2023 0:00:00','30.10.2023 0:00:00','06.11.2023 0:00:00','13.11.2023 0:00:00','20.11.2023 0:00:00','27.11.2023 0:00:00','04.12.2023 0:00:00','11.12.2023 0:00:00','18.12.2023 0:00:00','25.12.2023 0:00:00','01.01.2024 0:00:00','08.01.2024 0:00:00','15.01.2024 0:00:00','22.01.2024 0:00:00','29.01.2024 0:00:00','05.02.2024 0:00:00','12.02.2024 0:00:00','19.02.2024 0:00:00','26.02.2024 0:00:00','04.03.2024 0:00:00','11.03.2024 0:00:00','18.03.2024 0:00:00','25.03.2024 0:00:00','01.04.2024 0:00:00','08.04.2024 0:00:00','15.04.2024 0:00:00','22.04.2024 0:00:00','29.04.2024 0:00:00','06.05.2024 0:00:00','13.05.2024 0:00:00','20.05.2024 0:00:00','27.05.2024 0:00:00','03.06.2024 0:00:00','10.06.2024 0:00:00','17.06.2024 0:00:00','24.06.2024 0:00:00','01.07.2024 0:00:00','08.07.2024 0:00:00','15.07.2024 0:00:00','22.07.2024 0:00:00','29.07.2024 0:00:00','05.08.2024 0:00:00','12.08.2024 0:00:00','19.08.2024 0:00:00','26.08.2024 0:00:00','02.09.2024 0:00:00','09.09.2024 0:00:00','16.09.2024 0:00:00','23.09.2024 0:00:00','30.09.2024 0:00:00','07.10.2024 0:00:00','14.10.2024 0:00:00','21.10.2024 0:00:00','28.10.2024 0:00:00','04.11.2024 0:00:00','11.11.2024 0:00:00','18.11.2024 0:00:00','25.11.2024 0:00:00','02.12.2024 0:00:00','09.12.2024 0:00:00','16.12.2024 0:00:00','23.12.2024 0:00:00','06.01.2025 0:00:00','13.01.2025 0:00:00','20.01.2025 0:00:00','27.01.2025 0:00:00','03.02.2025 0:00:00','10.02.2025 0:00:00'\n",
    "                       ]\n",
    "\n",
    "dict_stock = dict.fromkeys(columns_str_stock, str)"
   ]
  },
  {
   "cell_type": "code",
   "execution_count": 10,
   "id": "3809a8cf",
   "metadata": {},
   "outputs": [],
   "source": [
    "# загрузка данных: остатки\n",
    "df_stock = pd.read_excel(\n",
    "    io=r'C:\\Users\\Andrew\\08_energy\\00_in_data\\df_stock.xlsx',\n",
    "    engine='openpyxl',\n",
    "    header=0,\n",
    "    converters=dict_stock\n",
    "    )"
   ]
  },
  {
   "cell_type": "code",
   "execution_count": null,
   "id": "6c4ec2a8",
   "metadata": {},
   "outputs": [],
   "source": []
  },
  {
   "cell_type": "markdown",
   "id": "417438e9",
   "metadata": {},
   "source": [
    "# Предобработка данных"
   ]
  },
  {
   "cell_type": "markdown",
   "id": "abeb7263",
   "metadata": {},
   "source": [
    "## Информация по данным"
   ]
  },
  {
   "cell_type": "code",
   "execution_count": 11,
   "id": "655fbe64",
   "metadata": {},
   "outputs": [
    {
     "name": "stdout",
     "output_type": "stream",
     "text": [
      "Информация по данным: продажи\n",
      "df_sales[code_1c].unique(): 101\n",
      "df_sales[tip_product].unique(): 11\n",
      "df_sales.shape: (12368, 42)\n",
      " \n"
     ]
    }
   ],
   "source": [
    "printer('Информация по данным: продажи')\n",
    "printer('df_sales[code_1c].unique():', len(df_sales['code_1c'].unique()) )\n",
    "printer('df_sales[tip_product].unique():', len(df_sales['tip_product'].unique()) )\n",
    "printer('df_sales.shape:', df_sales.shape )\n",
    "printer(\" \")"
   ]
  },
  {
   "cell_type": "code",
   "execution_count": 12,
   "id": "a0db36c9",
   "metadata": {},
   "outputs": [
    {
     "name": "stdout",
     "output_type": "stream",
     "text": [
      "Информация по данным: остатки\n",
      "df_stock[code_1c].unique(): 77\n",
      "df_stock[tip_product].unique(): 11\n",
      "df_stock.shape: (77, 177)\n",
      " \n"
     ]
    }
   ],
   "source": [
    "printer('Информация по данным: остатки')\n",
    "printer('df_stock[code_1c].unique():', len(df_stock['code_1c'].unique()) )\n",
    "printer('df_stock[tip_product].unique():', len(df_stock['tip_product'].unique()) )\n",
    "printer('df_stock.shape:', df_stock.shape )\n",
    "printer(\" \")"
   ]
  },
  {
   "cell_type": "markdown",
   "id": "71da519d",
   "metadata": {},
   "source": [
    "## Проверка дубликатов"
   ]
  },
  {
   "cell_type": "code",
   "execution_count": 13,
   "id": "4b9e42b7-f5cc-4487-aa6d-2642ce16ea43",
   "metadata": {},
   "outputs": [
    {
     "name": "stdout",
     "output_type": "stream",
     "text": [
      "Проверка дубликатов:\n",
      "Продажи df_sales.duplicated(): 0\n",
      "Остатки df_stock.duplicated(): 0\n",
      " \n"
     ]
    }
   ],
   "source": [
    "printer('Проверка дубликатов:')\n",
    "printer('Продажи df_sales.duplicated():', len(df_sales[df_sales.duplicated()]) )\n",
    "printer('Остатки df_stock.duplicated():', len(df_stock[df_stock.duplicated()]) )\n",
    "printer(\" \")"
   ]
  },
  {
   "cell_type": "code",
   "execution_count": null,
   "id": "fca860d8",
   "metadata": {},
   "outputs": [],
   "source": []
  },
  {
   "cell_type": "markdown",
   "id": "2027939b",
   "metadata": {},
   "source": [
    "## df_sales"
   ]
  },
  {
   "cell_type": "markdown",
   "id": "b56d5395-67ab-4c61-96a2-00619b4c0e7e",
   "metadata": {},
   "source": [
    "### Формируем order_uniq, bill_uniq"
   ]
  },
  {
   "cell_type": "code",
   "execution_count": null,
   "id": "0945a0f5",
   "metadata": {},
   "outputs": [],
   "source": [
    "df_sales['order_uniq'] = df_sales['order_number'] + df_sales['order_date']\n",
    "df_sales['bill_uniq'] = df_sales['bill_number'] + df_sales['bill_date']"
   ]
  },
  {
   "cell_type": "code",
   "execution_count": null,
   "id": "0707e811",
   "metadata": {},
   "outputs": [],
   "source": [
    "printer('Обработка_продаж: df_sales')\n",
    "printer('добавляем order_uniq, bill_uniq')\n",
    "\n",
    "printer('df_sales[order_number]',  len(df_sales['order_number'].unique())  )\n",
    "printer('df_sales[bill_number]',  len(df_sales['bill_number'].unique())  )\n",
    "printer('df_sales[order_uniq]',  len(df_sales['order_uniq'].unique())  )\n",
    "printer('df_sales[bill_uniq]',  len(df_sales['bill_uniq'].unique())  )\n",
    "printer(\" \")\n",
    "printer('df_sales.shape',  df_sales.shape  )"
   ]
  },
  {
   "cell_type": "code",
   "execution_count": null,
   "id": "590268ab-4095-4996-ba2d-894f4f7fd816",
   "metadata": {},
   "outputs": [],
   "source": []
  },
  {
   "cell_type": "markdown",
   "id": "37717eb1",
   "metadata": {},
   "source": [
    "### datetime"
   ]
  },
  {
   "cell_type": "code",
   "execution_count": null,
   "id": "c09bb73c",
   "metadata": {},
   "outputs": [],
   "source": [
    "df_sales[['bill_date', 'bill_close_date', 'order_date']].head(2)"
   ]
  },
  {
   "cell_type": "code",
   "execution_count": null,
   "id": "64675839-81b6-49e0-a105-46eef59ae761",
   "metadata": {},
   "outputs": [],
   "source": [
    "# устанавливаем формат datetime\n",
    "date_columns_list = ['bill_date', 'bill_close_date', 'order_date']\n",
    "df_sales[date_columns_list] = (\n",
    "    df_sales[date_columns_list].apply(pd.to_datetime, format = '%Y-%m-%d')\n",
    ")"
   ]
  },
  {
   "cell_type": "code",
   "execution_count": null,
   "id": "b9800cef",
   "metadata": {},
   "outputs": [],
   "source": [
    "printer('ПРОДАЖИ:    начало и конец периода'  )\n",
    "printer(\" \")\n",
    "printer('df_sales[bill_date, bill_close_date, order_date] -- замена_str_на_datetime' )\n",
    "printer('df_sales.shape             -- ', df_sales.shape )\n",
    "printer('df_sales[order_date].min() -- ', df_sales['order_date'].min() )\n",
    "printer('df_sales[order_date].max() -- ', df_sales['order_date'].max() )\n",
    "printer('df_sales  interval         -- ', df_sales['order_date'].max() - df_sales['order_date'].min() )\n",
    "printer(\" \")"
   ]
  },
  {
   "cell_type": "markdown",
   "id": "d89e19a4-1695-4275-a061-42ca9156fac3",
   "metadata": {},
   "source": [
    "### bill_sum"
   ]
  },
  {
   "cell_type": "code",
   "execution_count": null,
   "id": "69abdf45-b1f0-4086-a349-51aaf78453b7",
   "metadata": {},
   "outputs": [],
   "source": [
    "df_sales['bill_sum'] = df_sales['bill_count'] * df_sales['bill_price']"
   ]
  },
  {
   "cell_type": "markdown",
   "id": "d8d6bbf6-8ed2-4627-a24f-e4d7b7f7814a",
   "metadata": {},
   "source": [
    "### head_inn"
   ]
  },
  {
   "cell_type": "code",
   "execution_count": null,
   "id": "a127732b",
   "metadata": {},
   "outputs": [],
   "source": [
    "# заполняем head_inn\n",
    "# client_inn, head_inn заполним нулевым значением, поменяем тип данных на int\n",
    "df_sales[['client_inn', 'head_inn']] = df_sales[['client_inn', 'head_inn']].fillna(0)\n",
    "df_sales['client_inn'] = df_sales['client_inn'].map(int)\n",
    "df_sales['head_inn'] = df_sales['head_inn'].map(int)\n",
    "\n",
    "\n",
    "# добавляем head_inn_uniq\n",
    "# заполняем значение head_inn из head_inn, если head_inn равно нулю\n",
    "def find_inn(row):\n",
    "    #print(row.iloc[-1)\n",
    "    head_inn = row.iloc[-1] if row.iloc[-1] !=0 else row.iloc[-2]\n",
    "    return pd.Series([head_inn], index=['head_index'])\n",
    "\n",
    "df_sales['head_inn_uniq'] = df_sales[['client_inn', 'head_inn']].apply(find_inn, axis=1)"
   ]
  },
  {
   "cell_type": "code",
   "execution_count": null,
   "id": "6e8b15f2",
   "metadata": {},
   "outputs": [],
   "source": [
    "printer('df_sales -- заполняем head_inn')\n",
    "printer('уникальные клиенты по client_inn, head_inn_uniq')\n",
    "printer('len(df_sales[client_inn].unique()', len(df_sales['client_inn'].unique()) )\n",
    "printer('len(df_sales[head_inn_uniq].unique()', len(df_sales['head_inn_uniq'].unique()) )\n",
    "printer(\" \")"
   ]
  },
  {
   "cell_type": "markdown",
   "id": "ea5a2f41-04ef-40e2-bde6-0cebef228805",
   "metadata": {},
   "source": [
    "## df_stock"
   ]
  },
  {
   "cell_type": "code",
   "execution_count": null,
   "id": "b641c966",
   "metadata": {},
   "outputs": [],
   "source": [
    "printer('Обработка_остатков: df_stock' )\n",
    "printer('Удаляем из данных: [,000 \\xa0]' )\n",
    "printer('Заголовки: формируем номера недель [01.11.2022 0:00:00 -> 44-2022]' )\n",
    "printer(\" \")"
   ]
  },
  {
   "cell_type": "markdown",
   "id": "95954b82-bfbc-467e-87e8-580d48b2db2d",
   "metadata": {},
   "source": [
    "### заменяем Nan '\\xa0'"
   ]
  },
  {
   "cell_type": "code",
   "execution_count": null,
   "id": "6327fa80",
   "metadata": {},
   "outputs": [],
   "source": [
    "# остатки, обработка данных\n",
    "# заменяем Nan '\\xa0' - пробел в числах, убираем ',000', меняем тип данных\n",
    "# отсекаки три столбца в начале и tr в конце\n",
    "for column in df_stock.columns.values[3:]:\n",
    "    df_stock[column] = df_stock[column].str.replace(',000', '', regex=True)\n",
    "    df_stock[column] = df_stock[column].str.replace('\\xa0', '')\n",
    "    df_stock[column] = df_stock[column].str.replace('2\\xa0478', '')\n",
    "    df_stock[column] = df_stock[column].fillna(0)\n",
    "    df_stock[column] = df_stock[column].astype('float')"
   ]
  },
  {
   "cell_type": "code",
   "execution_count": null,
   "id": "7bc7ca2f",
   "metadata": {},
   "outputs": [],
   "source": []
  },
  {
   "cell_type": "markdown",
   "id": "f09d6dfc-9dec-436b-baef-e2e029d611f0",
   "metadata": {},
   "source": [
    "### Меняем дату на номер недели: 01.11.2022 0:00:00 -> 44-2022"
   ]
  },
  {
   "cell_type": "code",
   "execution_count": null,
   "id": "366b45a1-6afe-42f9-8a1d-10f39d98abfe",
   "metadata": {},
   "outputs": [],
   "source": [
    "# остатки первая и последняя дата в периоде\n",
    "# без сортировки, порядок формируется при выгрузке данных\n",
    "stock_first_date = df_stock.columns.values[3]\n",
    "stock_last_date = df_stock.columns.values[-1]"
   ]
  },
  {
   "cell_type": "code",
   "execution_count": null,
   "id": "03b2716e",
   "metadata": {},
   "outputs": [],
   "source": [
    "# остатки, переименовывваем заголовки, получаем номер недели\n",
    "# 01.11.2022 0:00:00 -> 44-2022 from datetime import datetime\n",
    "list_headers = []\n",
    "\n",
    "for index in df_stock.columns[3:]:\n",
    "    app_data = datetime.strptime(index, '%d.%m.%Y %H:%M:%S').strftime('%V-%Y')\n",
    "    list_headers.append(app_data)\n",
    "\n",
    "list_headers.insert(0, df_stock.columns[2])\n",
    "list_headers.insert(0, df_stock.columns[1])\n",
    "list_headers.insert(0, df_stock.columns[0])"
   ]
  },
  {
   "cell_type": "code",
   "execution_count": null,
   "id": "62dbe1e9-003a-4a42-b746-095a8451cc48",
   "metadata": {},
   "outputs": [],
   "source": [
    "printer('Проверка дубликатов в заголовках остатков:', len(set(list_headers)), len(list_headers))\n",
    "printer(\" \")"
   ]
  },
  {
   "cell_type": "code",
   "execution_count": null,
   "id": "34020001",
   "metadata": {},
   "outputs": [],
   "source": [
    "if len(set(list_headers)) != len(list_headers):\n",
    "    print(stop_errors)"
   ]
  },
  {
   "cell_type": "code",
   "execution_count": null,
   "id": "1f5415e3-d34a-43af-a360-a458044f2c72",
   "metadata": {},
   "outputs": [],
   "source": [
    "# меняем название заголовков\n",
    "df_stock.columns = list_headers"
   ]
  },
  {
   "cell_type": "code",
   "execution_count": null,
   "id": "c9e61249",
   "metadata": {},
   "outputs": [],
   "source": [
    "# остатки первая и последняя неделя в периоде\n",
    "# без сортировки, порядок формируется при выгрузке данных\n",
    "stock_first_week = df_stock.columns.values[3]\n",
    "stock_last_week = df_stock.columns.values[-1]"
   ]
  },
  {
   "cell_type": "code",
   "execution_count": null,
   "id": "2023782c-8635-4dc8-81ee-775824712d31",
   "metadata": {},
   "outputs": [],
   "source": [
    "# заполняем нули\n",
    "df_stock = df_stock.fillna(0)"
   ]
  },
  {
   "cell_type": "code",
   "execution_count": null,
   "id": "2d4d92c3",
   "metadata": {},
   "outputs": [],
   "source": [
    "# меняем тип данных на строковый\n",
    "df_stock[['code_1c', 'brand', 'tip_product',]] = df_stock[[\n",
    "          'code_1c', 'brand', 'tip_product',]].astype(str)"
   ]
  },
  {
   "cell_type": "code",
   "execution_count": null,
   "id": "57f0811a-1a95-45da-b7a1-c759374334f3",
   "metadata": {},
   "outputs": [],
   "source": []
  },
  {
   "cell_type": "code",
   "execution_count": null,
   "id": "8fbf843d",
   "metadata": {},
   "outputs": [],
   "source": [
    "printer('df_stock -- заполняем нулями, меняем на str'  )\n",
    "printer('df_stock.fillna, [code_1c, tip_product, iso, brand].astype(str)'  )\n",
    "printer('df_stock[code_1c].unique() -- после fillna_str:', len(df_stock['code_1c'].unique()))\n",
    "printer('df_stock[tip_product].unique()    -- после fillna_str:', len(df_stock['tip_product'].unique()))\n",
    "printer('df_stock.shape             -- после fillna_str:', df_stock.shape)\n",
    "printer(\" \")"
   ]
  },
  {
   "cell_type": "code",
   "execution_count": null,
   "id": "6e113b83-bb3f-4677-9834-7bc4c4a1087e",
   "metadata": {},
   "outputs": [],
   "source": []
  },
  {
   "cell_type": "markdown",
   "id": "78dabe5f",
   "metadata": {},
   "source": [
    "# Формируем df_order"
   ]
  },
  {
   "cell_type": "code",
   "execution_count": null,
   "id": "1d9b45ef",
   "metadata": {},
   "outputs": [],
   "source": [
    "# формируем уникальные номера bill_uniq, order_uniq\n",
    "\n",
    "# df_sales   - все данные (счета + отгрузки)\n",
    "# df_order   - отгрузки\n",
    "# df_bill    - счета без отгрузок\n",
    "\n",
    "df_sales[['code_1c', 'order_number']] = df_sales[['code_1c', 'order_number']].fillna('-').astype(str)\n",
    "#df_sales[['code_1c', 'order_number']] = df_sales[['code_1c', 'order_number']].astype(str)\n",
    "\n",
    "df_sales['order_weight_psc'] = df_sales['order_weight_psc'].fillna(0).astype(float)\n",
    "#df_sales['order_weight_psc'] = df_sales['order_weight_psc'].astype(float)\n",
    "\n",
    "df_order = (df_sales[(df_sales['order_number'] != '-')]).copy()\n",
    "df_bill  = (df_sales[(df_sales['order_number'] == '-')]).copy()"
   ]
  },
  {
   "cell_type": "markdown",
   "id": "7550ae93",
   "metadata": {},
   "source": [
    "# Фильтруем: остатки есть, нет продаж по code_1c"
   ]
  },
  {
   "cell_type": "code",
   "execution_count": null,
   "id": "cd1d1c13",
   "metadata": {},
   "outputs": [],
   "source": [
    "# получаем список code_1c по которым нет продаж, но есть остатки\n",
    "lst_no_sales_c1c = list(set(df_stock['code_1c']) - set(df_order['code_1c']))\n",
    "\n",
    "# получаем список code_1c по которым нет остатков, но есть продаж\n",
    "lst_no_stock_c1c = list(set(df_order['code_1c']) - set(df_stock['code_1c']))\n",
    "\n",
    "# получаем общий список\n",
    "lst_no_sales_no_stock_c1c = lst_no_sales_c1c + lst_no_stock_c1c\n",
    "\n",
    "print('df_stock.shape', df_stock.shape)\n",
    "print('df_order.shape', df_order.shape)\n",
    "\n",
    "# значения которые есть в списке помечаем False\n",
    "df_stock['true_sales'] = df_stock['code_1c'].apply(lambda x: x in lst_no_sales_c1c)\n",
    "df_order['true_stock'] = df_order['code_1c'].apply(lambda x: x in lst_no_stock_c1c)\n",
    "\n",
    "# отфильтровываем\n",
    "df_no_order = df_stock.loc[df_stock['true_sales'] == True ]\n",
    "df_no_stock = df_order.loc[df_order['true_stock'] == True ]\n",
    "\n",
    "print(len(lst_no_sales_c1c))\n",
    "print(len(lst_no_stock_c1c))\n",
    "print(len(lst_no_sales_no_stock_c1c))\n",
    "\n",
    "print('df_no_order.shape', df_no_order.shape)\n",
    "print('df_no_stock.shape', df_no_stock.shape)"
   ]
  },
  {
   "cell_type": "markdown",
   "id": "7891dd9e",
   "metadata": {},
   "source": [
    "# (min, max) даты (sales, stock) "
   ]
  },
  {
   "cell_type": "code",
   "execution_count": null,
   "id": "64cc910c-cdfe-41ea-8eee-14d37d365348",
   "metadata": {},
   "outputs": [],
   "source": [
    "# первая и последняя дата отгрузки (формат Timestamp)\n",
    "sales_first_date = df_sales['order_date'].min()\n",
    "sales_last_date = df_sales['order_date'].max()"
   ]
  },
  {
   "cell_type": "code",
   "execution_count": null,
   "id": "6fa740ae-cb6a-4678-bfa8-20e12a5ba816",
   "metadata": {},
   "outputs": [],
   "source": []
  },
  {
   "cell_type": "code",
   "execution_count": null,
   "id": "25479d55-9775-4e06-8a15-fc3dfff916c6",
   "metadata": {},
   "outputs": [],
   "source": [
    "# первая и последняя неделя отгрузки (формат str)\n",
    "# timestamp_string = \"2023-07-21 15:30:45\"\n",
    "format_string = \"%Y-%m-%d %H:%M:%S\"\n",
    "sales_first_week = datetime.strptime(\n",
    "    str(df_sales['order_date'].apply(pd.to_datetime, format = '%d.%m.%Y').min()),\n",
    "    format_string).strftime('%V-%Y')"
   ]
  },
  {
   "cell_type": "code",
   "execution_count": null,
   "id": "29a42427",
   "metadata": {},
   "outputs": [],
   "source": [
    "sales_last_week = datetime.strptime(\n",
    "    str(df_sales['order_date'].apply(pd.to_datetime, format = '%d.%m.%Y').max()),\n",
    "    format_string).strftime('%V-%Y')\n",
    "\n",
    "# первая и последняя дата счета\n",
    "bill_first_date = df_sales['bill_date'].min()\n",
    "bill_last_date = df_sales['bill_date'].max()\n",
    "\n",
    "#timestamp_string = \"2023-07-21 15:30:45\"\n",
    "format_string = \"%Y-%m-%d %H:%M:%S\"\n",
    "bill_first_week = datetime.strptime(\n",
    "    str(df_sales['bill_date'].apply(pd.to_datetime, format = '%d.%m.%Y').min()),\n",
    "    format_string).strftime('%V-%Y')\n",
    "\n",
    "bill_last_week = datetime.strptime(\n",
    "    str(df_sales['bill_date'].apply(pd.to_datetime, format = '%d.%m.%Y').max()),\n",
    "    format_string).strftime('%V-%Y')"
   ]
  },
  {
   "cell_type": "code",
   "execution_count": null,
   "id": "a565652e",
   "metadata": {},
   "outputs": [],
   "source": []
  },
  {
   "cell_type": "code",
   "execution_count": null,
   "id": "be017d1e",
   "metadata": {},
   "outputs": [],
   "source": [
    "printer(\" \")\n",
    "printer('Остатки          -- df_stock')\n",
    "printer('Первая дата      -- stock_first_date:', stock_first_date  )\n",
    "printer('Последняя дата   -- stock_last_date:', stock_last_date )\n",
    "printer('Первая неделя    -- stock_first_week:', stock_first_week  )\n",
    "printer('Последняя неделя -- stock_last_week:', stock_last_week  )\n",
    "stock_first_datetime = datetime.strptime(stock_first_date, \"%d.%m.%Y %S:%M:%H\")\n",
    "stock_last_datetime = datetime.strptime(stock_last_date, \"%d.%m.%Y %S:%M:%H\")\n",
    "printer('Интервал         -- df_stock[columns]:', stock_last_datetime - stock_first_datetime  )\n",
    "printer(\" \")\n",
    "printer('Продажи          -- df_sales[order_date]'  )\n",
    "printer('Первая дата      -- sales_first_date:', sales_first_date  )\n",
    "printer('Последняя дата   -- sales_last_date:', sales_last_date )\n",
    "printer('Первая неделя    -- sales_first_week:', sales_first_week  )\n",
    "printer('Последняя неделя -- sales_last_week:', sales_last_week  )\n",
    "sales_first_datetime = datetime.strptime(str(sales_first_date), \"%Y-%m-%d %S:%M:%H\")\n",
    "sales_last_datetime = datetime.strptime(str(sales_last_date), \"%Y-%m-%d %S:%M:%H\")\n",
    "printer('Интервал         -- df_sales[order_date]:', sales_last_datetime - sales_first_datetime  )\n",
    "printer(\" \")\n",
    "printer('Счета            -- df_sales[bill_date]'  )\n",
    "printer('Первая дата      -- bill_first_date:', bill_first_date  )\n",
    "printer('Последняя дата   -- bill_last_date:', bill_last_date )\n",
    "printer('Первая неделя    -- bill_first_week:', bill_first_week  )\n",
    "printer('Последняя неделя -- bill_last_week:', bill_last_week  )\n",
    "printer('Интервал         -- df_sales[bill_date]:', bill_last_date - bill_first_date   )\n",
    "printer(\" \")"
   ]
  },
  {
   "cell_type": "markdown",
   "id": "ff5384e6-d477-4b29-bfcd-304d9182d3f3",
   "metadata": {},
   "source": [
    "# АБС"
   ]
  },
  {
   "cell_type": "markdown",
   "id": "bafc53b1",
   "metadata": {},
   "source": [
    "## АБС объем продаж"
   ]
  },
  {
   "cell_type": "code",
   "execution_count": null,
   "id": "94bfbd82",
   "metadata": {},
   "outputs": [],
   "source": [
    "# заполняем нулем отсутсвующие значения в ГОСТ\n",
    "df_order['tip_product'] = df_order['tip_product'].fillna('-').astype(str)"
   ]
  },
  {
   "cell_type": "code",
   "execution_count": null,
   "id": "f1b42073",
   "metadata": {},
   "outputs": [],
   "source": [
    "printer(\" \")\n",
    "printer('Формируем продажи в шт по TIP')\n",
    "printer('df_frec_tip = df_order.groupby([tip_product)'  )\n",
    "printer('df_order[code_1c].unique()' , len(df_order['code_1c'].unique()) )\n",
    "printer('df_order[tip_product].unique()' , len(df_order['tip_product'].unique()) )"
   ]
  },
  {
   "cell_type": "code",
   "execution_count": null,
   "id": "583932ce",
   "metadata": {},
   "outputs": [],
   "source": [
    "# формируем  продажи в шт по ГОСТ\n",
    "df_frec_tip = (df_order.groupby(['tip_product'])\n",
    "                   .agg({'order_uniq': 'count',\n",
    "                         'order_count': 'sum',\n",
    "                         'code_1c': 'nunique'})\n",
    "                   .rename(columns = {'order_uniq':'order_freq',\n",
    "                                      'order_count': 'order_psc',\n",
    "                                      'code_1c': 'code_1c_count'})\n",
    "                   .reset_index()\n",
    "                   .sort_values(by='order_psc', ascending=False))"
   ]
  },
  {
   "cell_type": "code",
   "execution_count": null,
   "id": "af8181cb",
   "metadata": {},
   "outputs": [],
   "source": [
    "printer(df_frec_tip.head(2))\n",
    "printer(\" \")\n",
    "printer('df_frec_tip[tip_product].unique()' , len(df_frec_tip['tip_product'].unique()) )\n",
    "printer('df_frec_tip[code_1c_count]', df_frec_tip['code_1c_count'].sum() )\n",
    "printer('df_frec_tip.shape' , df_frec_tip.shape )\n",
    "printer(\" \")"
   ]
  },
  {
   "cell_type": "code",
   "execution_count": null,
   "id": "b504610c-3fe5-490d-b900-3a0b5c30741e",
   "metadata": {},
   "outputs": [],
   "source": []
  },
  {
   "cell_type": "code",
   "execution_count": null,
   "id": "9e0e04a5",
   "metadata": {},
   "outputs": [],
   "source": [
    "# формируем сумму продаж и процент продаж по каждому товару\n",
    "# сумма всех продаж в рублях\n",
    "sum_of_all_sales_rub = df_order['order_sum'].sum()\n",
    "\n",
    "# формируем сумму продаж по TIP\n",
    "df_abc_tip_sum = (df_order.groupby(['tip_product'])\n",
    "                   .agg({'order_sum': 'sum'})\n",
    "                   .rename(columns = { 'order_sum':'orders_sum_tip'})\n",
    "                   .reset_index()\n",
    "                   .sort_values(by='orders_sum_tip', ascending=False))"
   ]
  },
  {
   "cell_type": "code",
   "execution_count": null,
   "id": "e3895060",
   "metadata": {},
   "outputs": [],
   "source": [
    "# добавляем процент, сортировка sales_perc_rub\n",
    "df_abc_tip_sum['sales_perc_rub'] = (\n",
    "    df_abc_tip_sum['orders_sum_tip'] / sum_of_all_sales_rub) * 100\n",
    "df_abc_tip_sum = df_abc_tip_sum.sort_values(by='sales_perc_rub', ascending=False)\n",
    "\n",
    "# расчет кумулятивной суммы\n",
    "df_abc_tip_sum['sales_cums_rub'] = df_abc_tip_sum['sales_perc_rub'].cumsum()\n",
    "\n",
    "# добавляем АБС группы по объему продаж\n",
    "df_abc_tip_sum['abc_tip'] = df_abc_tip_sum['sales_cums_rub'].apply(lambda x:\n",
    "'A'   if x < 81 else\n",
    "'B'   if x < 96 else\n",
    "'C')\n",
    "\n",
    "# заполняем все пропуски\n",
    "df_abc_tip_sum = df_abc_tip_sum.fillna(0)"
   ]
  },
  {
   "cell_type": "code",
   "execution_count": null,
   "id": "9f004548-b48f-4859-95e3-c9081e684e11",
   "metadata": {},
   "outputs": [],
   "source": []
  },
  {
   "cell_type": "code",
   "execution_count": null,
   "id": "563b5983",
   "metadata": {},
   "outputs": [],
   "source": [
    "printer('Формируем АБС по TIP (сумма продаж и процент продаж)')\n",
    "printer('Сумма продаж в периоде:', sum_of_all_sales_rub)\n",
    "printer('df_abc_tip_sum = df_order.groupby([tip_product)'  )\n",
    "printer(\" \")\n",
    "printer('Объединяем АБС и частоту отгрузок (merge, df_abc_tip_sum, df_frec_tip, left)'  )\n",
    "printer('df_abc_tip_sum[tip_product].unique() -- до:', len(df_abc_tip_sum['tip_product'].unique())  )\n",
    "printer('df_abc_tip_sum.shape          -- до:', df_abc_tip_sum.shape  )\n",
    "printer(\" \")\n",
    "\n",
    "# объединяем АБС + частота отгрузок\n",
    "df_abc_tip_sum = pd.merge(df_abc_tip_sum, df_frec_tip, how='left', on=['tip_product', 'tip_product'])\n",
    "\n",
    "printer('df_abc_tip_sum[tip_product].unique() -- после:', len(df_abc_tip_sum['tip_product'].unique())  )\n",
    "printer('df_abc_tip_sum.shape          -- после:', df_abc_tip_sum.shape  )"
   ]
  },
  {
   "cell_type": "code",
   "execution_count": null,
   "id": "1321a822-b28c-40c3-b50a-afb11e473867",
   "metadata": {},
   "outputs": [],
   "source": []
  },
  {
   "cell_type": "code",
   "execution_count": null,
   "id": "a42e718b",
   "metadata": {},
   "outputs": [],
   "source": [
    "printer('Проверка рассчитанного процента АВС', df_abc_tip_sum['sales_perc_rub'].sum() )\n",
    "printer('Проверка сортировки df_abc_tip_sum (верх и низ) и кумулятивного процента'  )\n",
    "printer(\" \")\n",
    "printer(df_abc_tip_sum[['tip_product', 'sales_perc_rub', 'sales_cums_rub', 'abc_tip']].head(3))\n",
    "printer(\" \")\n",
    "printer(df_abc_tip_sum[['tip_product', 'sales_perc_rub', 'sales_cums_rub', 'abc_tip']].tail(3))\n",
    "printer(\" \")"
   ]
  },
  {
   "cell_type": "code",
   "execution_count": null,
   "id": "a42b3cd2-ceab-4f33-bcc4-0bd1c7ba33ed",
   "metadata": {},
   "outputs": [],
   "source": []
  },
  {
   "cell_type": "markdown",
   "id": "751b13f5",
   "metadata": {},
   "source": [
    "## АБС маржинальность"
   ]
  },
  {
   "cell_type": "code",
   "execution_count": null,
   "id": "11bea4e0",
   "metadata": {},
   "outputs": [],
   "source": [
    "# формируем маржинальности по TIP\n",
    "df_abc_tip_marg = (df_order.groupby(['tip_product'])\n",
    "                   .agg({'margin_master': ['sum', 'mean'],\n",
    "                         'purch_price': ['sum', 'mean'],\n",
    "                         'order_price': 'mean'})\n",
    "                   .reset_index())\n",
    "                   #.sort_values(by='margin_master', ascending=False))\n",
    "# rename columns \n",
    "df_abc_tip_marg.columns = ['tip_product', 'margin_sum', 'margin_mean',\n",
    "                            'purch_sum', 'purch_mean', 'price_mean']"
   ]
  },
  {
   "cell_type": "code",
   "execution_count": null,
   "id": "767e7648",
   "metadata": {},
   "outputs": [],
   "source": [
    "# добавляем процент по маржинальности, сортировка margin_sales_rub\n",
    "sum_margn_rub = df_abc_tip_marg['margin_sum'].sum()\n",
    "\n",
    "df_abc_tip_marg['margin_perc_rub'] = (df_abc_tip_marg['margin_sum'] / sum_margn_rub) * 100\n",
    "df_abc_tip_marg = df_abc_tip_marg.sort_values(by='margin_perc_rub', ascending=False)\n",
    "\n",
    "# расчет кумулятивной суммы\n",
    "df_abc_tip_marg['margin_cums_rub'] = df_abc_tip_marg['margin_perc_rub'].cumsum()\n",
    "\n",
    "# добавляем АБС группы для маржи\n",
    "df_abc_tip_marg['abc_marg'] = df_abc_tip_marg['margin_cums_rub'].apply(lambda x:\n",
    "'A'   if x < 81 else\n",
    "'B'   if x < 96 else\n",
    "'C')"
   ]
  },
  {
   "cell_type": "code",
   "execution_count": null,
   "id": "37d1636e",
   "metadata": {},
   "outputs": [],
   "source": [
    "printer('Формируем АБС_маржинальность по ГОСТ, df_abc_gost_marg')\n",
    "printer('Проверка процента АБС_маржинальность', df_abc_tip_marg['margin_perc_rub'].sum() )\n",
    "printer('Сумма маржи в периоде', sum_margn_rub )\n",
    "printer(\" \")\n",
    "printer('df_abc_tip_marg[tip_product].unique() -- до:' , len(df_abc_tip_marg['tip_product'].unique()) )\n",
    "printer('df_abc_tip_marg.shape          -- до:' , df_abc_tip_marg.shape  )\n",
    "printer(\" \")"
   ]
  },
  {
   "cell_type": "code",
   "execution_count": null,
   "id": "5cd728fc",
   "metadata": {},
   "outputs": [],
   "source": [
    "# добавляем маржинальность к АБС df_abc_gost_sum + df_abc_gost_marg\n",
    "df_abc_tip_sum = pd.merge(df_abc_tip_sum, df_abc_tip_marg, how='left',\n",
    "                          on=['tip_product', 'tip_product'])"
   ]
  },
  {
   "cell_type": "markdown",
   "id": "ed4532c4",
   "metadata": {},
   "source": [
    "## АБС рентабельность"
   ]
  },
  {
   "cell_type": "code",
   "execution_count": null,
   "id": "47dcc42a",
   "metadata": {},
   "outputs": [],
   "source": [
    "# рассчитываем рентабельность по ГОСТ (маржа / оборот * 100%)\n",
    "df_abc_tip_sum['rent_rub'] = (df_abc_tip_sum['margin_sum'] / \n",
    "                              df_abc_tip_sum['orders_sum_tip']) * 100\n",
    "\n",
    "# добавляем АБС для рентабельности\n",
    "df_abc_tip_sum['abc_rent'] = df_abc_tip_sum['rent_rub'].apply(lambda x:\n",
    "'А+'  if x > 35 else\n",
    "'A'   if x > 25 else\n",
    "'B'   if x > 5 else\n",
    "'C')\n",
    "\n",
    "# сортировка по margin_perc_rub\n",
    "df_abc_tip_sum = df_abc_tip_sum.sort_values(by='margin_sum', ascending=False)"
   ]
  },
  {
   "cell_type": "code",
   "execution_count": null,
   "id": "44ffb1bd",
   "metadata": {},
   "outputs": [],
   "source": [
    "printer('Добавляем маржинальность к АБС (merge, df_abc_gost_sum, df_abc_gost_marg, left)')\n",
    "printer('Рассчитываем рентабельность по ГОСТ (маржа / оборот * 100%)')\n",
    "printer('df_abc_gost_sum[gost].unique() -- после' , len(df_abc_tip_sum['tip_product'].unique()) )\n",
    "printer('df_abc_gost_sum.shape          -- после' , df_abc_tip_sum.shape  )\n",
    "printer('Проверка сортировки df_abc_tip_marg (верх и низ) и кумулятивного процента'  )\n",
    "printer('Есть маржа меньше нуля => есть больше 100%'  )\n",
    "printer(\" \")\n",
    "printer(df_abc_tip_sum[['margin_sum', 'margin_perc_rub',\n",
    "                            'margin_cums_rub', 'abc_marg', 'abc_rent']].head(3))\n",
    "printer(\" \")\n",
    "printer(df_abc_tip_sum[['margin_sum', 'margin_perc_rub',\n",
    "                            'margin_cums_rub', 'abc_marg', 'abc_rent']].tail(3))"
   ]
  },
  {
   "cell_type": "markdown",
   "id": "39f0f01a",
   "metadata": {},
   "source": [
    "## LMHO по весу"
   ]
  },
  {
   "cell_type": "code",
   "execution_count": null,
   "id": "e78b66aa",
   "metadata": {},
   "outputs": [],
   "source": [
    "df_order['order_weight_psc'].info()"
   ]
  },
  {
   "cell_type": "code",
   "execution_count": null,
   "id": "87e09494",
   "metadata": {},
   "outputs": [],
   "source": [
    "# расчитываем округленный вес для всех заказов\n",
    "# округление данных до целого 0.01 -> 1.00\n",
    "df_order['weight_psc_round'] = df_order['order_weight_psc'].apply(np.ceil)\n",
    "\n",
    "# формируем данные ГОСТ и усредненный вес\n",
    "df_tip_weight = (df_order.groupby(['tip_product'])\n",
    "                   .agg({'weight_psc_round': 'mean'})\n",
    "                   .sort_values(by='weight_psc_round', ascending=False)\n",
    "                   .reset_index())\n",
    "\n",
    "# добавляем LMHO для веса\n",
    "df_tip_weight['lmho'] = df_tip_weight['weight_psc_round'].apply(lambda x:\n",
    "'H'  if x > 30 else\n",
    "'M'  if x > 3 else\n",
    "'L'  if x > 0 else\n",
    "'O')"
   ]
  },
  {
   "cell_type": "code",
   "execution_count": null,
   "id": "7a329228",
   "metadata": {},
   "outputs": [],
   "source": [
    "# добавляем LMHO\n",
    "df_abc_tip_sum = pd.merge(df_abc_tip_sum, df_tip_weight,\n",
    "                          how='left', on=['tip_product', 'tip_product'])"
   ]
  },
  {
   "cell_type": "code",
   "execution_count": null,
   "id": "10eec147",
   "metadata": {},
   "outputs": [],
   "source": [
    "printer('Добавляем LMHO_по_весу (merge, df_abc_tip_sum, df_tip_weight, left)')\n",
    "printer('df_tip_weight[tip_product].unique()' , len(df_tip_weight['tip_product'].unique()) )\n",
    "printer('df_tip_weight.shape' , df_tip_weight.shape  )\n",
    "printer('df_abc_tip_sum[tip_product].unique() -- после' , len(df_abc_tip_sum['tip_product'].unique()) )\n",
    "printer('df_abc_tip_sum.shape                  --после' , df_abc_tip_sum.shape  )\n",
    "printer(\" \")"
   ]
  },
  {
   "cell_type": "code",
   "execution_count": null,
   "id": "c1c128e5",
   "metadata": {},
   "outputs": [],
   "source": [
    "lst_names_of_group = [\"L\", \"M\", \"H\", \"O\"]\n",
    "lst_df_group = []"
   ]
  },
  {
   "cell_type": "code",
   "execution_count": null,
   "id": "8a60201d",
   "metadata": {},
   "outputs": [],
   "source": [
    "for group in lst_names_of_group:\n",
    "    # фильтруем по группе\n",
    "    df_weight = (df_abc_tip_sum.loc[df_abc_tip_sum['lmho']==group])\n",
    "    sum_sales_weight = df_weight['orders_sum_tip'].sum()\n",
    "    # добавляем процент, сортировка sales_perc_rub\n",
    "    df_weight['perc_rub_'+group] = (df_weight['orders_sum_tip']\n",
    "                                    / sum_sales_weight) * 100\n",
    "    df_weight = df_weight.sort_values(by='perc_rub_'+group, ascending=False)\n",
    "    # расчет кумулятивной суммы\n",
    "    df_weight['cumsum_'+group] = df_weight['perc_rub_'+group].cumsum()\n",
    "    # добавляем АБС группы по объему продаж для каждой группы\n",
    "    df_weight['abc_'+group] = df_weight['cumsum_'+group].apply(lambda x:\n",
    "    'A'+group   if x < 81 else\n",
    "    'B'+group   if x < 96 else\n",
    "    'C'+group )\n",
    "    \n",
    "    # оставляем только TIP и группу\n",
    "    df_weight = df_weight[['tip_product', 'abc_'+group]]\n",
    "    \n",
    "    # добавляем LMHO_по_группе\n",
    "    df_abc_tip_sum = pd.merge(df_abc_tip_sum, df_weight, how='left',\n",
    "                              on=['tip_product', 'tip_product'])"
   ]
  },
  {
   "cell_type": "code",
   "execution_count": null,
   "id": "d434e681",
   "metadata": {},
   "outputs": [],
   "source": []
  },
  {
   "cell_type": "code",
   "execution_count": null,
   "id": "67f75428",
   "metadata": {},
   "outputs": [],
   "source": [
    "# заполняем пустые значения\n",
    "lst_adc_weight = ['abc_L', 'abc_M', 'abc_H', 'abc_O']\n",
    "for index in lst_adc_weight:\n",
    "    df_abc_tip_sum[index] = df_abc_tip_sum[index].fillna('-')\n",
    "\n",
    "# добавляем столбец в который помещаем значения четырех групп\n",
    "df_abc_tip_sum['adc_w'] = (df_abc_tip_sum['abc_L']+df_abc_tip_sum['abc_M']\n",
    "                            +df_abc_tip_sum['abc_H']+df_abc_tip_sum['abc_O'])\n",
    "# убираем тире\n",
    "df_abc_tip_sum['adc_w'] = df_abc_tip_sum['adc_w'].str.replace('-', '')"
   ]
  },
  {
   "cell_type": "code",
   "execution_count": null,
   "id": "40be31b9",
   "metadata": {},
   "outputs": [],
   "source": [
    "printer('Добавляем LMHO_по_группе (merge, df_abc_tip_sum, df_weight, left)')\n",
    "printer('df_weight[tip_product].unique()' , len(df_weight['tip_product'].unique()) )\n",
    "printer('df_weight.shape' , df_weight.shape  )\n",
    "printer('df_abc_tip_sum[tip_product].unique() -- после' , len(df_abc_tip_sum['tip_product'].unique()) )\n",
    "printer('df_abc_tip_sum.shape                  --после' , df_abc_tip_sum.shape  )\n",
    "printer(\" \")"
   ]
  },
  {
   "cell_type": "code",
   "execution_count": null,
   "id": "d2570f2c",
   "metadata": {},
   "outputs": [],
   "source": []
  },
  {
   "cell_type": "markdown",
   "id": "5d7b7cc3",
   "metadata": {},
   "source": [
    "# Понедельные остатки по TIP"
   ]
  },
  {
   "cell_type": "code",
   "execution_count": null,
   "id": "74c9d25a",
   "metadata": {},
   "outputs": [],
   "source": [
    "# формируем список недель (неупорядочен)\n",
    "lst_stock_columns_weeks = list(\n",
    "    # срез по номерам столбцов\n",
    "    df_stock.columns.values[\n",
    "                            df_stock.columns.get_loc('code_1c')+1:\n",
    "                            df_stock.columns.get_loc('true_sales')\n",
    "                            ]\n",
    "                               )"
   ]
  },
  {
   "cell_type": "code",
   "execution_count": null,
   "id": "fcec2065",
   "metadata": {},
   "outputs": [],
   "source": [
    "# создаём словарь для агрегации: \n",
    "# {колонка: функция} для недель и уникальные значения для остального\n",
    "dict_stock_columns_weeks = {col: 'sum' for col in lst_stock_columns_weeks}\n",
    "\n",
    "# добавляем code_1c and brand\n",
    "dict_stock_columns_weeks.update({\n",
    "    'code_1c': 'unique',\n",
    "    'brand': 'unique'\n",
    "})"
   ]
  },
  {
   "cell_type": "code",
   "execution_count": null,
   "id": "3df2ac13",
   "metadata": {},
   "outputs": [],
   "source": [
    "# groupby\n",
    "df_stock_tip = (df_stock.groupby(['tip_product'])\n",
    "                               .agg(dict_stock_columns_weeks)\n",
    "                               .reset_index()\n",
    "                               .sort_values(by='tip_product', ascending=False)\n",
    "                    )\n",
    "df_stock_tip.head(2)"
   ]
  },
  {
   "cell_type": "code",
   "execution_count": null,
   "id": "987910fa-a742-484d-a626-d35bc6f09511",
   "metadata": {},
   "outputs": [],
   "source": []
  },
  {
   "cell_type": "markdown",
   "id": "7cb189ca",
   "metadata": {},
   "source": [
    "# Понедельные продажи по TIP"
   ]
  },
  {
   "cell_type": "code",
   "execution_count": null,
   "id": "7be19319",
   "metadata": {},
   "outputs": [],
   "source": [
    "# заменяем дату отгрузки на номер недели\n",
    "from datetime import datetime\n",
    "\n",
    "# order_date  2022-08-22 00:00:00 -> 01-2022\n",
    "df_order['order_date'] = df_order['order_date'].apply(pd.to_datetime, format = '%d.%m.%Y')\n",
    "df_order['order_date'] = df_order['order_date'].astype(str)\n",
    "df_order['order_week'] = df_order['order_date'].apply(lambda x: datetime.strptime(x, '%Y-%m-%d').strftime('%V-%Y'))"
   ]
  },
  {
   "cell_type": "code",
   "execution_count": null,
   "id": "7e85272c",
   "metadata": {},
   "outputs": [],
   "source": [
    "# перед формирование меняем тип данных, иначе появляются дубли\n",
    "df_order['tip_product'] = df_order['tip_product'].fillna('-').astype(str)"
   ]
  },
  {
   "cell_type": "code",
   "execution_count": null,
   "id": "da20c02e",
   "metadata": {},
   "outputs": [],
   "source": [
    "# формируем продажи в шт понедельно\n",
    "df_order_tip = df_order.pivot_table(\n",
    "                                      index=['tip_product'],\n",
    "                                      columns='order_week',\n",
    "                                      values='order_count',\n",
    "                                      aggfunc='sum', fill_value=0).reset_index(drop=False)"
   ]
  },
  {
   "cell_type": "code",
   "execution_count": null,
   "id": "9f200b73",
   "metadata": {},
   "outputs": [],
   "source": [
    "# формируем продажи gost + code_1c\n",
    "df_order_tip_h = df_order.pivot_table(\n",
    "                                      index=['tip_product'],\n",
    "                                      values='code_1c',\n",
    "                                      aggfunc='sum', fill_value=0).reset_index(drop=False)"
   ]
  },
  {
   "cell_type": "code",
   "execution_count": null,
   "id": "f196048e",
   "metadata": {},
   "outputs": [],
   "source": [
    "# получаем список недель, удаляем столбец ГОСТ\n",
    "list_weeks_for_sort = list(df_order_tip.columns.values[1:])\n",
    "\n",
    "# задаем тип данных\n",
    "for index in list_weeks_for_sort:\n",
    "    df_order_tip[index] = df_order_tip[index].astype(float)"
   ]
  },
  {
   "cell_type": "code",
   "execution_count": null,
   "id": "00d9cc0d-62a7-493e-846c-bc4b2dbf394b",
   "metadata": {},
   "outputs": [],
   "source": []
  },
  {
   "cell_type": "code",
   "execution_count": null,
   "id": "44fed7f2",
   "metadata": {},
   "outputs": [],
   "source": [
    "# разделяем код 1с в ГОСТ добавляем \\n\n",
    "df_order_tip_h['code_1c'] = df_order_tip_h['code_1c'].str.replace('00-', '\\n00-')\n",
    "df_order_tip_h['code_1c'] = df_order_tip_h['code_1c'].str.replace('П00', '\\nП00')\n",
    "# убираем \\n в начале code_1c, -> разрезаем, создаем списки\n",
    "df_order_tip_h['code_1c'] = df_order_tip_h['code_1c'].apply(lambda x: re.sub(\"^\\n\", \"\", x))\n",
    "df_order_tip_h['code_1c'] = df_order_tip_h['code_1c'].apply(lambda x: x.splitlines(False))"
   ]
  },
  {
   "cell_type": "code",
   "execution_count": null,
   "id": "4997c3d6",
   "metadata": {},
   "outputs": [],
   "source": [
    "# убираем дубли code_1c которые образуются из-за сложения по неделям\n",
    "df_order_tip_h['code_1c'] = df_order_tip_h['code_1c'].apply(lambda x: list(set(x)))"
   ]
  },
  {
   "cell_type": "code",
   "execution_count": null,
   "id": "d18b207b",
   "metadata": {},
   "outputs": [],
   "source": [
    "printer('Продажи, формируем номер недели в заголовке (order_date),  2022-08-22 00:00:00 -> 01-2022')\n",
    "printer('Понедельные_продажи_по_TIP: df_order_tip = df_order.pivot_table([tip_product)')\n",
    "printer('len(df_order_tip[tip_product)', len(df_order_tip['tip_product'])  )\n",
    "printer('df_order_tip.shape', df_order_tip.shape  )\n",
    "printer(\" \")        "
   ]
  },
  {
   "cell_type": "code",
   "execution_count": null,
   "id": "7332b23f-1591-4f19-979d-bf8bb9d61cf6",
   "metadata": {},
   "outputs": [],
   "source": []
  },
  {
   "cell_type": "code",
   "execution_count": null,
   "id": "7cf9a1f8-fde9-4d2f-9be4-879419980168",
   "metadata": {},
   "outputs": [],
   "source": [
    "# в продажи по госту добавляем code_1c\n",
    "df_order_tip = pd.merge(df_order_tip, df_order_tip_h, how='left', on=['tip_product', 'tip_product'])\n",
    "\n",
    "printer('В продажи по госту добавляем code_1c (merge, df_order_tip, df_order_tip_h, left)')\n",
    "printer('df_order_gost[gost].unique() -- после' , len(df_order_tip['tip_product'].unique()) )\n",
    "printer('df_order_gost.shape          -- после' , df_order_tip.shape  )\n",
    "printer(\" \")"
   ]
  },
  {
   "cell_type": "code",
   "execution_count": null,
   "id": "f587e497-567e-442c-a8db-2f1c3b7a7ed7",
   "metadata": {},
   "outputs": [],
   "source": []
  },
  {
   "cell_type": "markdown",
   "id": "261f1a88",
   "metadata": {},
   "source": [
    "# Приравниваем количество недель"
   ]
  },
  {
   "cell_type": "code",
   "execution_count": null,
   "id": "b9297d46",
   "metadata": {},
   "outputs": [],
   "source": [
    "printer(\" \")\n",
    "printer('Приравниваем_количество_недель (df_order_tip, df_stock_tip)')\n",
    "printer('df_order_gost.shape  -- до' , df_order_tip.shape  )\n",
    "printer('df_stock_gost.shape  -- до' , df_stock_tip.shape  )"
   ]
  },
  {
   "cell_type": "code",
   "execution_count": null,
   "id": "9ff2ae96",
   "metadata": {},
   "outputs": [],
   "source": [
    "# формируем разницу в периоде df_stock_gost, df_order_gost\n",
    "month_drop_from_stock = list( (set(set(df_stock_tip.columns.values) - set(df_order_tip.columns.values))) -\n",
    "                       set(['brand'])\n",
    "                       )\n",
    "\n",
    "# формируем разницу в периоде df_order_gost, df_stock_gost\n",
    "month_drop_from_order = list(set(df_order_tip.columns.values) - set(df_stock_tip.columns.values))"
   ]
  },
  {
   "cell_type": "code",
   "execution_count": null,
   "id": "aadde792",
   "metadata": {},
   "outputs": [],
   "source": [
    "print('Столбцы - остатки минус продажи:', month_drop_from_stock)\n",
    "print('Столбцы - продажи минус остатки:', month_drop_from_order)"
   ]
  },
  {
   "cell_type": "code",
   "execution_count": null,
   "id": "53cefa41-0df8-4faf-8547-56939a12c199",
   "metadata": {},
   "outputs": [],
   "source": []
  },
  {
   "cell_type": "code",
   "execution_count": null,
   "id": "115b0d83",
   "metadata": {},
   "outputs": [],
   "source": [
    "# удаляем несоответсвие \n",
    "df_stock_tip = df_stock_tip.drop(month_drop_from_stock, axis = 1)\n",
    "df_order_tip = df_order_tip.drop(month_drop_from_order, axis = 1)"
   ]
  },
  {
   "cell_type": "code",
   "execution_count": null,
   "id": "892ad706",
   "metadata": {},
   "outputs": [],
   "source": [
    "# проверяем разницу в периоде. В остатках остается ['brand']\n",
    "print(list(set(df_stock_tip.columns.values) - set(df_order_tip.columns.values)))\n",
    "print(list(set(df_order_tip.columns.values) - set(df_stock_tip.columns.values)))"
   ]
  },
  {
   "cell_type": "code",
   "execution_count": null,
   "id": "33616c7c",
   "metadata": {},
   "outputs": [],
   "source": [
    "# получаем список недель без ГОСТ (в начале) и code_1c (в конце)\n",
    "list_weeks_for_sort = list(df_order_tip.columns.values[1:-1])"
   ]
  },
  {
   "cell_type": "code",
   "execution_count": null,
   "id": "65cc913f",
   "metadata": {},
   "outputs": [],
   "source": [
    "# сортируем список\n",
    "lst_stock_sort = weeks_sort(list_weeks_for_sort)"
   ]
  },
  {
   "cell_type": "code",
   "execution_count": null,
   "id": "26d48554",
   "metadata": {},
   "outputs": [],
   "source": [
    "# формируем порядок столбцов для остатков и продаж\n",
    "df_stock_tip = df_stock_tip[lst_stock_sort+['tip_product', 'code_1c', 'brand', ]]\n",
    "df_order_tip = df_order_tip[lst_stock_sort+['tip_product', 'code_1c',]]"
   ]
  },
  {
   "cell_type": "code",
   "execution_count": null,
   "id": "e89ce7b2",
   "metadata": {},
   "outputs": [],
   "source": [
    "# меняем тип данных на str\n",
    "df_stock_tip[['tip_product', 'brand']] = df_stock_tip[['tip_product', 'brand']].astype(str)\n",
    "df_order_tip['tip_product'] = df_order_tip['tip_product'].astype(str)"
   ]
  },
  {
   "cell_type": "code",
   "execution_count": null,
   "id": "c276238d",
   "metadata": {},
   "outputs": [],
   "source": [
    "printer('Столбцы - продажи минус остатки:', month_drop_from_order  )\n",
    "printer('Столбцы - остатки минус продажи:', month_drop_from_stock  )\n",
    "printer('df_order_tip.shape  -- после' , df_order_tip.shape  )\n",
    "printer('df_stock_tip.shape  -- после' , df_stock_tip.shape  )\n",
    "printer(\" \")\n",
    "printer('Проверяем разницу в периоде. В остатках остается [brand]')\n",
    "printer('Столбцы - остатки минус продажи:',\n",
    "    list(set(df_stock_tip.columns.values) - set(df_order_tip.columns.values))\n",
    ")\n",
    "printer('Столбцы - продажи минус остатки:',\n",
    "    list(set(df_order_tip.columns.values) - set(df_stock_tip.columns.values))\n",
    ")"
   ]
  },
  {
   "cell_type": "markdown",
   "id": "ab028bda",
   "metadata": {},
   "source": [
    "# Преобразуем list(code_1c) в str(code_1c)"
   ]
  },
  {
   "cell_type": "code",
   "execution_count": null,
   "id": "86d8d625-8881-44f9-8cc9-019f1d56eda3",
   "metadata": {},
   "outputs": [],
   "source": [
    "df_stock_tip['code_1c'] = df_stock_tip['code_1c'].apply(lambda x: ', '.join(map(str, x)))"
   ]
  },
  {
   "cell_type": "code",
   "execution_count": null,
   "id": "946d8fc5",
   "metadata": {},
   "outputs": [],
   "source": [
    "df_order_tip['code_1c'] = df_order_tip['code_1c'].apply(lambda x: ', '.join(map(str, x)))"
   ]
  },
  {
   "cell_type": "markdown",
   "id": "7d3ffe78",
   "metadata": {},
   "source": [
    "# Приравниваем остатки и продажи"
   ]
  },
  {
   "cell_type": "code",
   "execution_count": null,
   "id": "25271c88",
   "metadata": {},
   "outputs": [],
   "source": [
    "printer(\" \")\n",
    "printer('Приравниваем_остатки_и_продажи')\n",
    "printer('Остатки -- len(df_stock_tip[tip].unique():', len(df_stock_tip['tip_product'].unique()) )\n",
    "printer('Остатки -- df_stock_tip.shape', df_stock_tip.shape )\n",
    "printer('Продажи -- len(df_order_tip[tip].unique():', len(df_order_tip['tip_product'].unique()) )\n",
    "printer('Продажи -- df_order_tip.shape', df_order_tip.shape )"
   ]
  },
  {
   "cell_type": "code",
   "execution_count": null,
   "id": "dd406d8f-69b6-4198-b52a-bea639591ad7",
   "metadata": {},
   "outputs": [],
   "source": []
  },
  {
   "cell_type": "code",
   "execution_count": null,
   "id": "c1369c59-f84d-48f2-99da-47eb78cd19a5",
   "metadata": {},
   "outputs": [],
   "source": [
    "# получаем список ГОСТ по которым нет продаж, но есть остатки\n",
    "lst_no_sales = (list(set(df_stock_tip['tip_product'])\n",
    "                     - set(df_order_tip['tip_product']))\n",
    "               )\n",
    "lst_no_stock = (list(set(df_order_tip['tip_product'])\n",
    "                     - set(df_stock_tip['tip_product']))\n",
    "               )\n",
    "lst_no_sales_no_stock = lst_no_sales+lst_no_stock\n",
    "\n",
    "printer('Длинна lst_no_sales TIP (нет продаж, но есть остатки):', len(lst_no_sales) )\n",
    "printer('Длинна lst_no_stock TIP (нет остатков, но есть продажи):', len(lst_no_stock) )\n",
    "printer('Длинна lst_no_sales_stock общего списка:', len(lst_no_sales_no_stock) )"
   ]
  },
  {
   "cell_type": "code",
   "execution_count": null,
   "id": "38dbc5a4",
   "metadata": {},
   "outputs": [],
   "source": [
    "# значения которые есть в списке помечаем False\n",
    "df_stock_tip['true_sales'] = df_stock_tip['tip_product'].apply(lambda x: x in lst_no_sales_no_stock)\n",
    "df_order_tip['true_stock'] = df_order_tip['tip_product'].apply(lambda x: x in lst_no_sales_no_stock)\n",
    "\n",
    "# отфильтровываем\n",
    "df_no_order = df_stock_tip.loc[df_stock_tip['true_sales'] == True ]\n",
    "df_no_stock = df_order_tip.loc[df_order_tip['true_stock'] == True ]\n",
    "df_stock_tip = df_stock_tip.loc[df_stock_tip['true_sales'] == False ]\n",
    "df_order_tip = df_order_tip.loc[df_order_tip['true_stock'] == False ]"
   ]
  },
  {
   "cell_type": "code",
   "execution_count": null,
   "id": "ca88acc9",
   "metadata": {},
   "outputs": [],
   "source": [
    "printer('Формируем таблицы')\n",
    "printer('df_no_order -- нет продаж но есть остатки (TIP):', len(df_no_order)  )\n",
    "printer('df_no_stock -- нет остатков но есть продажи (TIP):', len(df_no_stock)  )\n",
    "printer('df_no_order -- нет продаж но есть остатки (Code_1c):', len(set(df_no_order['code_1c'])) )\n",
    "printer('df_no_stock -- нет остатков но есть продажи (Code_1c):', len(set(df_no_stock['code_1c'])) )\n",
    "printer(\" \")        "
   ]
  },
  {
   "cell_type": "code",
   "execution_count": null,
   "id": "b31b0fa9",
   "metadata": {},
   "outputs": [],
   "source": [
    "code_1c_no_order = set(df_stock_tip['code_1c']) - set(df_order_tip['code_1c'])\n",
    "\n",
    "code_1c_no_stock = set(df_order_tip['code_1c']) - set(df_stock_tip['code_1c'])\n",
    "printer(\" \")\n",
    "printer('В данных остаются позиции по Code_1c, по которым нет остатков или нет продаж')\n",
    "printer('code_1c_no_order -- нет продаж но есть остатки:', len(code_1c_no_order)  )\n",
    "printer('code_1c_no_stock -- нет остатков но есть продажи:', len(code_1c_no_stock)  )"
   ]
  },
  {
   "cell_type": "code",
   "execution_count": null,
   "id": "bdf62555",
   "metadata": {},
   "outputs": [],
   "source": [
    "printer('Удаляем столбцы: true_sales, true_stock')\n",
    "printer(\" \")"
   ]
  },
  {
   "cell_type": "code",
   "execution_count": null,
   "id": "f3af1b23",
   "metadata": {},
   "outputs": [],
   "source": [
    "# удаляем один столбец: true_sales, true_stock\n",
    "df_stock_tip = df_stock_tip.drop('true_sales', axis=1)\n",
    "df_order_tip = df_order_tip.drop('true_stock', axis=1)"
   ]
  },
  {
   "cell_type": "code",
   "execution_count": null,
   "id": "18eae244",
   "metadata": {},
   "outputs": [],
   "source": [
    "printer(\" \")\n",
    "printer('Длинна таблиц')\n",
    "printer('df_order_tip[tip]:', len(df_order_tip['tip_product'])  )\n",
    "printer('df_order_tip[tip].unique:', len(df_order_tip['tip_product'].unique())  )\n",
    "printer('df_order_tip.shape:', df_order_tip.shape  )\n",
    "\n",
    "printer('df_stock_tip[tip]:', len(df_stock_tip['tip_product'])  )\n",
    "printer('df_stock_tip[tip].unique:', len(df_stock_tip['tip_product'].unique())  )\n",
    "printer('df_stock_tip.shape:', df_stock_tip.shape  )\n",
    "\n",
    "printer(\" \")\n",
    "printer('Проверяем разницу в заголовках. В остатках остается [brand]' )\n",
    "printer( list(set(df_stock_tip.columns.values) - set(df_order_tip.columns.values)) )\n",
    "printer( list(set(df_order_tip.columns.values) - set(df_stock_tip.columns.values)) )"
   ]
  },
  {
   "cell_type": "code",
   "execution_count": null,
   "id": "58f5b1c8",
   "metadata": {},
   "outputs": [],
   "source": [
    "# только недели продаж, без ГОСТ и код_1с\n",
    "lst_order_tip = df_order_tip.columns.values[:-2]"
   ]
  },
  {
   "cell_type": "markdown",
   "id": "f0402d54",
   "metadata": {},
   "source": [
    "# Работа с остатками"
   ]
  },
  {
   "cell_type": "code",
   "execution_count": null,
   "id": "30a42f8b-1b5a-491b-bdb5-659f2b8c8441",
   "metadata": {},
   "outputs": [],
   "source": []
  },
  {
   "cell_type": "code",
   "execution_count": null,
   "id": "5f2f6c1b",
   "metadata": {},
   "outputs": [],
   "source": [
    "printer('Работа_с_остатками df_stock_tip:')\n",
    "printer(\" \")\n",
    "printer( '- помечаем новые приходы (остаток на минус 5 неделю)')\n",
    "printer( '- добавляем десять процентов по продажам за пол года')\n",
    "printer( '- средние продажи и сколько распродавать склад')\n",
    "printer( '- оборачиваемость склада (продажи / средний остаток в периоде)')\n",
    "printer( '- добавляем стоимость склада (цена продажи и цена закупки)')\n",
    "printer( '- добавляем xyz')\n",
    "printer(\" \")        \n",
    "printer('[mean_st_4] --  средний остаток за последние 5 недель'  )\n",
    "printer('[true_receipt] -- True,  склад на 09-2024 неделю увеличенный на 20%'  )\n",
    "printer('[sales_half_year] -- сумма продаж за последние пол года'  )\n",
    "printer('[mean_sales_whole_period] -- средние продажи за весь период'  )\n",
    "printer('[how_long_to_sale] -- сколько еще распродавать склада'  )\n",
    "printer('[all_sales_whole_period] -- сумма всех продаж в периоде'  )\n",
    "printer('[mean_stock_whole_period] -- средний остаток в периоде'  )\n",
    "printer('[turnover] -- оборачиваемость: все продажи / средний остаток'  )\n",
    "printer('lst_order_gost -- только недели продаж, без ГОСТ и код_1с'  )\n",
    "printer(\" \")\n",
    "printer('df_price_mean -- средние цены закупки и продажи'  )\n",
    "printer('[stock_sales1, stock_purch1] -- цена склада, начало периода'  )\n",
    "printer('[stock_sales2, stock_purch2] -- цена склада, конец периода'  )\n",
    "printer(\" \")"
   ]
  },
  {
   "cell_type": "markdown",
   "id": "01ab5266-bd5b-435e-9b20-e46727f34a49",
   "metadata": {},
   "source": [
    "## Помечаем неделю с новыми приходами"
   ]
  },
  {
   "cell_type": "code",
   "execution_count": null,
   "id": "7b66307b-3fb7-4186-9a85-f1f3f63eacea",
   "metadata": {},
   "outputs": [],
   "source": [
    "# 08-2024\n",
    "df_stock_tip.columns.values[-54]"
   ]
  },
  {
   "cell_type": "code",
   "execution_count": null,
   "id": "2d85f87a-7e11-43a4-a80a-e311db85e928",
   "metadata": {},
   "outputs": [],
   "source": [
    "# помечаем новые приходы\n",
    "# получаем средний остаток за последние 5 недель\n",
    "df_stock_tip['mean_st_4'] = df_stock_tip[df_stock_tip.columns.values[-10:-5]].mean(axis=1)"
   ]
  },
  {
   "cell_type": "code",
   "execution_count": null,
   "id": "55f68bbc-3cd1-4342-b20c-5a68eca2978b",
   "metadata": {},
   "outputs": [],
   "source": [
    "# помечаем True значения которые больше чем склад на 08-2024 неделю увеличенный на 20%\n",
    "# row.iloc[-20] == '09-2024'\n",
    "# row.iloc[-1] == 'mean_st_4'\n",
    "def find_receipt1(row):\n",
    "    head = 'нет' if row.iloc[-1] <= row.loc['08-2024']*1.2 else '09_неделя'\n",
    "    return pd.Series([head], index=['head_index'])\n",
    "\n",
    "df_stock_tip[['true_receipt']] = df_stock_tip.apply(find_receipt1, axis=1)"
   ]
  },
  {
   "cell_type": "code",
   "execution_count": null,
   "id": "5828f3bd",
   "metadata": {},
   "outputs": [],
   "source": [
    "# добавляем десять процентов по продажам за пол года\n",
    "# создаем список недель за пол года\n",
    "list_weeks_half_year = list(df_order_tip.columns.values[-37:-3])"
   ]
  },
  {
   "cell_type": "code",
   "execution_count": null,
   "id": "e463446e-ba65-4fd5-acdd-09279e3ff86a",
   "metadata": {},
   "outputs": [],
   "source": []
  },
  {
   "cell_type": "code",
   "execution_count": null,
   "id": "369e1fd8-750e-4d11-84c2-92e58599c9c1",
   "metadata": {},
   "outputs": [],
   "source": [
    "# сумма продаж за пол года\n",
    "df_stock_tip['sales_half_year'] = df_order_tip[list_weeks_half_year].sum(axis=1)\n",
    "\n",
    "# рассчитываем отношение продаж за пол года к\n",
    "# среднему складу за 4 недели\n",
    "df_stock_tip['percent'] = ((df_stock_tip['sales_half_year']/\n",
    "                             df_stock_tip['mean_st_4'])*100).round(2)"
   ]
  },
  {
   "cell_type": "code",
   "execution_count": null,
   "id": "3b78fdca-dc52-40fd-9322-4b3596a92b83",
   "metadata": {},
   "outputs": [],
   "source": [
    "# получаем позиции по которым продажи менее 10%\n",
    "# чем склад за последние 4 недели\n",
    "df_stock_tip['true_percent'] = df_stock_tip['percent'].apply(lambda x:\n",
    "                                                               'меньше_10' if x <= 10\n",
    "                                                               else 'больше_10')"
   ]
  },
  {
   "cell_type": "code",
   "execution_count": null,
   "id": "1297bede",
   "metadata": {},
   "outputs": [],
   "source": [
    "printer(' Cредние продажи и сколько распродавать склад')"
   ]
  },
  {
   "cell_type": "code",
   "execution_count": null,
   "id": "dd067c82",
   "metadata": {},
   "outputs": [],
   "source": [
    "# среднее значение продаж в неделю за весь период\n",
    "df_stock_tip['mean_sales_whole_period'] = (df_order_tip[lst_stock_sort].mean(axis=1)).round(1)\n",
    "# делим конечный остаток на средние продажи в неделю\n",
    "df_stock_tip['how_long_to_sale'] = ((df_stock_tip[lst_stock_sort[-1]] /\n",
    "                                    df_stock_tip['mean_sales_whole_period']\n",
    "                             )).round(0)"
   ]
  },
  {
   "cell_type": "code",
   "execution_count": null,
   "id": "ac08e305",
   "metadata": {},
   "outputs": [],
   "source": [
    "printer(' оборачиваемость склада = продажи / средний остаток в периоде ')"
   ]
  },
  {
   "cell_type": "code",
   "execution_count": null,
   "id": "5cd644a2",
   "metadata": {},
   "outputs": [],
   "source": [
    "# сумма всех продаж в периоде\n",
    "df_stock_tip['all_sales_whole_period'] = (df_order_tip[lst_stock_sort].sum(axis=1)).round(0)\n",
    "\n",
    "# средний остаток в периоде\n",
    "df_stock_tip['mean_stock_whole_period'] = (df_order_tip[lst_stock_sort].mean(axis=1)).round(1)\n",
    "\n",
    "# оборачиваемость: все продажи / средний остаток\n",
    "df_stock_tip['turnover'] = (df_stock_tip['all_sales_whole_period']\n",
    "                             / df_stock_tip['mean_stock_whole_period']).round(0)"
   ]
  },
  {
   "cell_type": "code",
   "execution_count": null,
   "id": "3f88f0e5",
   "metadata": {},
   "outputs": [],
   "source": [
    "# добавляем стоимость склада (цена продажи и цена закупки)"
   ]
  },
  {
   "cell_type": "code",
   "execution_count": null,
   "id": "2f0abf3a",
   "metadata": {},
   "outputs": [],
   "source": [
    "# для расчета стоимости склада в ценах продажи и ценах закупки\n",
    "# df_price_mean - средние цены закупки и продажи\n",
    "df_price_mean = (df_order.groupby(['tip_product'])\n",
    "                   .agg({'purch_price': 'mean', 'order_price': 'mean'})\n",
    "                   .rename(columns = {'purch_price':'price_purch_mean',\n",
    "                                      'order_price':'price_sales_mean'})\n",
    "                   .round(1)\n",
    "                   .reset_index()\n",
    "                   .sort_values(by='tip_product', ascending=True)\n",
    "                   )"
   ]
  },
  {
   "cell_type": "code",
   "execution_count": null,
   "id": "5f22e3f6",
   "metadata": {},
   "outputs": [],
   "source": [
    "lst_mean_price_drop1 = list(set(df_price_mean['tip_product']) - set(df_stock_tip['tip_product']))\n",
    "lst_mean_price_drop2 = list(set(df_stock_tip['tip_product']) - set(df_price_mean['tip_product']))\n",
    "print('Средние цены минус остатки (TIP):', lst_mean_price_drop1 )\n",
    "print('Остатки минус средние цены (TIP):', lst_mean_price_drop2 )"
   ]
  },
  {
   "cell_type": "code",
   "execution_count": null,
   "id": "c03c37e1",
   "metadata": {},
   "outputs": [],
   "source": [
    "# получаем список индексов для удаления\n",
    "lst_drop_index = df_price_mean[df_price_mean['tip_product'].isin(lst_mean_price_drop1)].index.tolist()"
   ]
  },
  {
   "cell_type": "code",
   "execution_count": null,
   "id": "7f7b9306",
   "metadata": {},
   "outputs": [],
   "source": [
    "# удаляем строки по индексу\n",
    "df_price_mean = df_price_mean.drop(index=lst_drop_index).reset_index()"
   ]
  },
  {
   "cell_type": "code",
   "execution_count": null,
   "id": "63c9c853",
   "metadata": {},
   "outputs": [],
   "source": [
    "# выравниваем позиции, делаем сортировку\n",
    "df_price_mean = df_price_mean.sort_values(by='tip_product', ascending=False).reset_index(drop=True)\n",
    "df_stock_tip = df_stock_tip.sort_values(by='tip_product', ascending=False).reset_index(drop=True)"
   ]
  },
  {
   "cell_type": "code",
   "execution_count": null,
   "id": "107c7066",
   "metadata": {},
   "outputs": [],
   "source": [
    "# добавляем стоимость склада (цена продажи и цена закупки)\n",
    "# начало периода\n",
    "df_stock_tip['stock_sales1'] = df_price_mean['price_sales_mean']*df_stock_tip[lst_stock_sort[1]]\n",
    "df_stock_tip['stock_purch1'] = df_price_mean['price_purch_mean']*df_stock_tip[lst_stock_sort[1]]"
   ]
  },
  {
   "cell_type": "code",
   "execution_count": null,
   "id": "fa01f306",
   "metadata": {},
   "outputs": [],
   "source": [
    "# добавляем стоимость склада (цена продажи и цена закупки)\n",
    "# конец периода\n",
    "df_stock_tip['stock_sales2'] = df_price_mean['price_sales_mean']*df_stock_tip[lst_stock_sort[-1]]\n",
    "df_stock_tip['stock_purch2'] = df_price_mean['price_purch_mean']*df_stock_tip[lst_stock_sort[-1]]"
   ]
  },
  {
   "cell_type": "code",
   "execution_count": null,
   "id": "0df0dc46-3f17-4302-9de9-6ce0dd7af53b",
   "metadata": {},
   "outputs": [],
   "source": [
    "# добавляем данные на конец периода\n",
    "df_stock_tip['last_stock'] = df_stock_tip[lst_stock_sort[-1]]"
   ]
  },
  {
   "cell_type": "markdown",
   "id": "7e98f4a5",
   "metadata": {},
   "source": [
    "# Расcчитываем xyz для продаж"
   ]
  },
  {
   "cell_type": "code",
   "execution_count": null,
   "id": "3bbbeaa3",
   "metadata": {},
   "outputs": [],
   "source": [
    "# столбцы с номером недель\n",
    "# lst_order_gost\n",
    "\n",
    "def find_variab(row):\n",
    "    # расчет по всем данным\n",
    "    #f_variab = (np.std(row[1:)/np.mean(row[1:)*100).round(2)            \n",
    "    f_variab = round( (np.std(row[row!=0])/np.mean(row[row!=0]))*100, 2)\n",
    "    return pd.Series([f_variab], index=['variab'])\n",
    "\n",
    "df_order_tip['variab'] = df_order_tip[lst_order_tip].apply(find_variab, axis=1)"
   ]
  },
  {
   "cell_type": "code",
   "execution_count": null,
   "id": "0997843a",
   "metadata": {},
   "outputs": [],
   "source": [
    "# добавляем XYZ для групп товара\n",
    "df_order_tip['xyz'] = df_order_tip['variab'].apply(lambda x:\n",
    "'Z'  if x > 150 else\n",
    "'Y'  if x > 50 else\n",
    "'O'  if x == 0 else\n",
    "'X')"
   ]
  },
  {
   "cell_type": "markdown",
   "id": "48bdcd80",
   "metadata": {},
   "source": [
    "# Объединяем остатки АБС LMHO"
   ]
  },
  {
   "cell_type": "code",
   "execution_count": null,
   "id": "fc60a800",
   "metadata": {},
   "outputs": [],
   "source": [
    "# задаем тип данных для ГОСТ перед объединением\n",
    "df_stock_tip['tip_product'] = df_stock_tip['tip_product'].astype(str)\n",
    "df_abc_tip_sum['tip_product'] = df_abc_tip_sum['tip_product'].astype(str)"
   ]
  },
  {
   "cell_type": "code",
   "execution_count": null,
   "id": "e8d4010b-ce66-4ac4-ae60-2f46970f05ed",
   "metadata": {},
   "outputs": [],
   "source": [
    "printer(\" \")\n",
    "printer('Объединяем_остатки_АБС_LMHO' )\n",
    "printer('df_stock_tip = pd.merge(df_stock_tip, df_abc_tip_sum, on=[tip_product, tip_product], how=left)')\n",
    "printer('Проверка размеров' )\n",
    "printer('ABC -- df_abc_tip_sum.shape', df_abc_tip_sum.shape )\n",
    "printer('ABC_gost -- len(df_abc_tip_sum[tip_product].unique()', len(df_abc_tip_sum['tip_product'].unique()) )\n",
    "printer('Отгрузки_гост -- df_order_tip.shape', df_order_tip.shape )\n",
    "printer('Отгрузки_гост -- len(df_order_tip[tip_product].unique())', len(df_order_tip['tip_product'].unique()) )"
   ]
  },
  {
   "cell_type": "code",
   "execution_count": null,
   "id": "47e2569e",
   "metadata": {},
   "outputs": [],
   "source": [
    "printer(\" \")\n",
    "printer('Остатки_tip до -- df_stock_tip.shape:', df_stock_tip.shape )\n",
    "printer('Остатки_tip до -- len(df_stock_tip[tip_product].unique()):', len(df_stock_tip['tip_product'].unique()) )\n",
    "printer(\" \")\n",
    "printer('Продажи минус остатки (TIP):', list(set(df_abc_tip_sum['tip_product'])\n",
    "                                                 - set(df_stock_tip['tip_product'])) )\n",
    "printer('Остатки минус продажи (TIP):', list(set(df_stock_tip['tip_product'])\n",
    "                                                 - set(df_abc_tip_sum['tip_product'])) )"
   ]
  },
  {
   "cell_type": "code",
   "execution_count": null,
   "id": "252c83f8",
   "metadata": {},
   "outputs": [],
   "source": [
    "# df_stock_tip добавляем АБС\n",
    "df_stock_tip = pd.merge(df_stock_tip, df_abc_tip_sum,\n",
    "                        on=['tip_product', 'tip_product'], how='left')"
   ]
  },
  {
   "cell_type": "code",
   "execution_count": null,
   "id": "5a5bd583",
   "metadata": {},
   "outputs": [],
   "source": [
    "printer(\" \")\n",
    "printer('Остатки_гост после -- df_stock_tip.shape:', df_stock_tip.shape )\n",
    "printer('Остатки_гост после -- len(df_stock_tip[tip].unique()):',\n",
    "           len(df_stock_tip['tip_product'].unique()) )"
   ]
  },
  {
   "cell_type": "code",
   "execution_count": null,
   "id": "c99521cf",
   "metadata": {},
   "outputs": [],
   "source": []
  },
  {
   "cell_type": "markdown",
   "id": "7ff2d608",
   "metadata": {},
   "source": [
    "# Подготовка к объединению"
   ]
  },
  {
   "cell_type": "code",
   "execution_count": null,
   "id": "0c2f35f2",
   "metadata": {},
   "outputs": [],
   "source": [
    "# проверка размеров\n",
    "print(df_order_tip.shape)\n",
    "print(len(df_order_tip['tip_product'].unique()))\n",
    "\n",
    "# проверка размеров\n",
    "print(df_stock_tip.shape)\n",
    "print(len(df_stock_tip['tip_product'].unique()))"
   ]
  },
  {
   "cell_type": "code",
   "execution_count": null,
   "id": "44341f81",
   "metadata": {},
   "outputs": [],
   "source": []
  },
  {
   "cell_type": "code",
   "execution_count": null,
   "id": "046159aa",
   "metadata": {},
   "outputs": [],
   "source": [
    "printer(\" \")\n",
    "printer('Столбцы из остатков переносим в отгрузки (df_order_tip[columns] = df_stock_tip[columns)')\n",
    "printer('Проверяем разницу в позициях по TIP')\n",
    "printer('Продажи есть, остатков нет:',\n",
    "          list(set(list(df_order_tip['tip_product']))\n",
    "               - set(list(df_stock_tip['tip_product'])))\n",
    "          )\n",
    "printer('Остатки есть, продаж нет:', \n",
    "           list(set(list(df_stock_tip['tip_product']))\n",
    "                - set(list(df_order_tip['tip_product'])))\n",
    "          )"
   ]
  },
  {
   "cell_type": "code",
   "execution_count": null,
   "id": "f8b72bc0",
   "metadata": {},
   "outputs": [],
   "source": [
    "d1 = df_stock_tip[df_stock_tip['tip_product'].duplicated(keep='first')]\n",
    "d2 = df_order_tip[df_order_tip['tip_product'].duplicated(keep='first')]"
   ]
  },
  {
   "cell_type": "code",
   "execution_count": null,
   "id": "4a107c70",
   "metadata": {},
   "outputs": [],
   "source": [
    "printer('Проверка дубликатов df_stock_tip:', len(d1)  )\n",
    "printer('Проверка дубликатов df_order_tip:', len(d2)  )\n",
    "printer(\" \")"
   ]
  },
  {
   "cell_type": "code",
   "execution_count": null,
   "id": "cf504a93",
   "metadata": {},
   "outputs": [],
   "source": [
    "# проверяем разницу в периоде, получаем все столбцы кроме gost и номеров недель\n",
    "# остатки минус отгрузки\n",
    "lst_st_minus_or = list(set(df_stock_tip.columns.values) \n",
    "                       - set(df_order_tip.columns.values))\n",
    "# отгрузки минус заказы\n",
    "lst_or_minus_st = list(set(df_order_tip.columns.values)\n",
    "                       - set(df_stock_tip.columns.values))"
   ]
  },
  {
   "cell_type": "code",
   "execution_count": null,
   "id": "894e6fca",
   "metadata": {},
   "outputs": [],
   "source": [
    "# делаем сортировку по ГОСТ для остатков и продаж\n",
    "df_stock_tip = (df_stock_tip\n",
    "                      .sort_values(['tip_product'], ascending=(False))\n",
    "                      .reset_index(drop=True)\n",
    "                     )"
   ]
  },
  {
   "cell_type": "code",
   "execution_count": null,
   "id": "3f622b9c",
   "metadata": {},
   "outputs": [],
   "source": [
    "df_order_tip = (df_order_tip\n",
    "                      .sort_values(['tip_product'], ascending=(False))\n",
    "                      .reset_index(drop=True)\n",
    "                     )"
   ]
  },
  {
   "cell_type": "code",
   "execution_count": null,
   "id": "8fe65227",
   "metadata": {},
   "outputs": [],
   "source": [
    "print(df_stock_tip['tip_product'].head(2))\n",
    "print(df_order_tip['tip_product'].head(2))"
   ]
  },
  {
   "cell_type": "code",
   "execution_count": null,
   "id": "72afb6f7",
   "metadata": {},
   "outputs": [],
   "source": [
    "print(df_stock_tip['tip_product'].tail(2))\n",
    "print(df_order_tip['tip_product'].tail(2))"
   ]
  },
  {
   "cell_type": "code",
   "execution_count": null,
   "id": "ee0a3b78",
   "metadata": {},
   "outputs": [],
   "source": [
    "# к заказам добавляем данные из остатков, используем список столбцов\n",
    "# приравниваем по списку столбцов которые есть в остатках, но нет в отгрузках\n",
    "df_order_tip[lst_st_minus_or] = df_stock_tip[lst_st_minus_or]"
   ]
  },
  {
   "cell_type": "code",
   "execution_count": null,
   "id": "b7028077",
   "metadata": {},
   "outputs": [],
   "source": [
    "# lst_or_minus_st -'xyz', 'variab'\n",
    "df_stock_tip[lst_or_minus_st] = df_order_tip[lst_or_minus_st]"
   ]
  },
  {
   "cell_type": "code",
   "execution_count": null,
   "id": "0146f329",
   "metadata": {},
   "outputs": [],
   "source": [
    "printer('Приравниваем значение по столбцам \\\n",
    "(df_order_tip[columns] = df_stock_tip[columns)')\n",
    "printer('df_order_tip.shape:', df_order_tip.shape )\n",
    "printer('df_stock_tip.shape:', df_stock_tip.shape )\n",
    "printer(\" \")"
   ]
  },
  {
   "cell_type": "markdown",
   "id": "dd9183fb",
   "metadata": {},
   "source": [
    "# Формируем приходы понедельно"
   ]
  },
  {
   "cell_type": "code",
   "execution_count": null,
   "id": "aef03081",
   "metadata": {},
   "outputs": [],
   "source": [
    "printer('Формируем_приходы: df_ssr')\n",
    "printer('df_stock_tip, df_order_tip, df_receipt_tip')\n",
    "printer(\" \")"
   ]
  },
  {
   "cell_type": "code",
   "execution_count": null,
   "id": "cc2d1f42",
   "metadata": {},
   "outputs": [],
   "source": [
    "# формируем df_receipt_gost\n",
    "df_receipt_tip = pd.DataFrame({\n",
    "    'tip_product': list(df_order_tip['tip_product'])  })"
   ]
  },
  {
   "cell_type": "code",
   "execution_count": null,
   "id": "280eafb7",
   "metadata": {},
   "outputs": [],
   "source": [
    "# объединяем остатки, продажи, приходы: df_stock_gost, df_order_gost, df_receipt_gost\n",
    "list_df_sor = [df_stock_tip, df_order_tip, df_receipt_tip]\n",
    "df_ssr = pd.concat(list_df_sor, keys=[\"stock\", \"sales\", \"receipt\"]).reset_index()"
   ]
  },
  {
   "cell_type": "code",
   "execution_count": null,
   "id": "ab9f064a",
   "metadata": {},
   "outputs": [],
   "source": [
    "# смена названий столбцов столбцов\n",
    "df_ssr = df_ssr.rename(columns={'level_0': 'status'})\n",
    "# удаляем старые индексы\n",
    "df_ssr = df_ssr.drop('level_1', axis=1)\n",
    "# делаем сортировку по ГОСТ и по status\n",
    "df_ssr = (df_ssr\n",
    "                .sort_values(['tip_product', 'status'], ascending=(False, False))\n",
    "                .reset_index(drop=True)\n",
    "                     )"
   ]
  },
  {
   "cell_type": "code",
   "execution_count": null,
   "id": "2692ceb5",
   "metadata": {},
   "outputs": [],
   "source": [
    "# создаем первый столбец для расчета первого поступления\n",
    "df_ssr['00-0000'] = None\n",
    "df_ssr['00-0000'] = df_ssr['00-0000'].fillna(0)"
   ]
  },
  {
   "cell_type": "code",
   "execution_count": null,
   "id": "14bf302d",
   "metadata": {},
   "outputs": [],
   "source": [
    "# задаем нужный порядок столбцов\n",
    "df_ssr = df_ssr[['status', 'tip_product', '00-0000'] + lst_stock_sort ]"
   ]
  },
  {
   "cell_type": "code",
   "execution_count": null,
   "id": "08dcfdc3",
   "metadata": {},
   "outputs": [],
   "source": [
    "df_ssr.iloc[0:3, 0:7]"
   ]
  },
  {
   "cell_type": "code",
   "execution_count": null,
   "id": "f298741a",
   "metadata": {},
   "outputs": [],
   "source": [
    "# # рассчет остатков без учета продаж\n",
    "\n",
    "# # количество строк\n",
    "# for lin in range(2, df_ssr.shape[0], 3):\n",
    "#     # количество стобцов\n",
    "#     for col in range(2, df_ssr.shape[1]-1):\n",
    "#         x = df_ssr.iloc[lin-2, col+1] - df_ssr.iloc[lin-2, col]\n",
    "#         if x > 0:\n",
    "#             df_ssr.iloc[lin, col] = x"
   ]
  },
  {
   "cell_type": "code",
   "execution_count": null,
   "id": "f6fc392d",
   "metadata": {},
   "outputs": [],
   "source": [
    "# рассчет остатков с учетом продаж\n",
    "\n",
    "# количество строк\n",
    "for lin in range(2, df_ssr.shape[0], 3):\n",
    "    # количество стобцов\n",
    "    for col in range(2, df_ssr.shape[1]-1):\n",
    "        df_ssr.iloc[lin, col] = (df_ssr.iloc[lin-2, col+1]\n",
    "                                 - df_ssr.iloc[lin-2, col] + df_ssr.iloc[lin-1, col])        "
   ]
  },
  {
   "cell_type": "code",
   "execution_count": null,
   "id": "fcfc655e-468f-4aa5-8c6a-fd8d4ab96ab8",
   "metadata": {},
   "outputs": [],
   "source": [
    "# со смещением продаж на +1 - df_ssr.iloc[lin-2, col] + df_ssr.iloc[lin-1, col+1)"
   ]
  },
  {
   "cell_type": "code",
   "execution_count": null,
   "id": "0a9696f4",
   "metadata": {},
   "outputs": [],
   "source": [
    "# заполняем последний столбец\n",
    "df_ssr.iloc[:, -1:None] = df_ssr.iloc[:, -1:None].fillna(0)"
   ]
  },
  {
   "cell_type": "code",
   "execution_count": null,
   "id": "372de017",
   "metadata": {},
   "outputs": [],
   "source": [
    "# рассчитываем сумму по каждой строке\n",
    "df_ssr['sum'] = df_ssr[df_ssr.columns.values[2:]].sum(axis=1)"
   ]
  },
  {
   "cell_type": "code",
   "execution_count": null,
   "id": "e9f8902a",
   "metadata": {},
   "outputs": [],
   "source": [
    "# создаем столбец и рассчитываем коэффициент\n",
    "# формула: liq_index = (sales - receipt) / sales\n",
    "\n",
    "df_ssr['liq_index'] = None\n",
    "\n",
    "for l in range(2, df_ssr.shape[0]+1, 3):\n",
    "    df_ssr.loc[l, 'liq_index'] = (df_ssr.loc[l-1, 'sum'] - df_ssr.loc[l, 'sum']) / df_ssr.loc[l-1, 'sum']"
   ]
  },
  {
   "cell_type": "code",
   "execution_count": null,
   "id": "bd9405fb",
   "metadata": {},
   "outputs": [],
   "source": [
    "# заполняем пропуски нулями и создаем группы\n",
    "df_ssr['liq_index'] = df_ssr['liq_index'].fillna(0)\n",
    "\n",
    "# помечаем группу\n",
    "df_ssr['liq_group'] = df_ssr['liq_index'].apply(lambda x:\n",
    "'N--'   if x <= -1 else\n",
    "'N-'    if x <= -0.3 else\n",
    "'Norm'  if x <= -0.1 else\n",
    "'0'     if x == 0 else\n",
    "'N+'    if x <= 0.2 else                                                \n",
    "'N++')"
   ]
  },
  {
   "cell_type": "code",
   "execution_count": null,
   "id": "34c7cdb4",
   "metadata": {},
   "outputs": [],
   "source": [
    "# отфильтровываем только приходы\n",
    "df_receipt = df_ssr[df_ssr.status == 'receipt']\n",
    "len(df_receipt)"
   ]
  },
  {
   "cell_type": "code",
   "execution_count": null,
   "id": "075e5241",
   "metadata": {},
   "outputs": [],
   "source": [
    "printer(\" \")\n",
    "printer('Отфильтровываем только приходы: df_receipt')\n",
    "printer('df_ssr.shape:', df_ssr.shape)\n",
    "printer('df_receipt.shape:', df_receipt.shape)\n",
    "printer('Проверяем равенство: df_ssr')\n",
    "printer('Остатки: status == stock',   len(df_ssr.query('status == \"stock\"'))  )\n",
    "printer('Продажи: status == sales',    len(df_ssr.query('status == \"sales\"'))  )\n",
    "printer('Приходы: status == receipt',    len(df_ssr.query('status == \"receipt\"'))  )"
   ]
  },
  {
   "cell_type": "code",
   "execution_count": null,
   "id": "a00858d8",
   "metadata": {},
   "outputs": [],
   "source": [
    "df_receipt = df_receipt.sort_values(by='tip_product',\n",
    "                                    ascending = False).reset_index(drop=True)"
   ]
  },
  {
   "cell_type": "code",
   "execution_count": null,
   "id": "f26e62ae",
   "metadata": {},
   "outputs": [],
   "source": [
    "# добавляем столбцы в остатки и заказы\n",
    "# ['liq_index', 'liq_group']  ->  df_stock_tip    df_order_tip\n",
    "df_stock_tip[['liq_index', 'liq_group']] = df_receipt[['liq_index', 'liq_group']]\n",
    "df_order_tip[['liq_index', 'liq_group']] = df_receipt[['liq_index', 'liq_group']]"
   ]
  },
  {
   "cell_type": "code",
   "execution_count": null,
   "id": "1be85ab0",
   "metadata": {},
   "outputs": [],
   "source": []
  },
  {
   "cell_type": "markdown",
   "id": "5fe68016",
   "metadata": {},
   "source": [
    "# Объединяем остатки и продажи"
   ]
  },
  {
   "cell_type": "code",
   "execution_count": null,
   "id": "e9ca851f",
   "metadata": {},
   "outputs": [],
   "source": [
    "# объединяем остатки и продажи df_stock_tip, df_order_tip\n",
    "list_df_so = [df_stock_tip, df_order_tip]\n",
    "df_stock_and_sales = pd.concat(list_df_so, keys=[\"stock\", \"sales\"]).reset_index()\n",
    "\n",
    "# смена названий столбцов \n",
    "df_stock_and_sales = df_stock_and_sales.rename(columns={'level_0': 'status'})\n",
    "# удаляем старые индексы\n",
    "df_stock_and_sales = df_stock_and_sales.drop('level_1', axis=1)\n",
    "# делаем сортировку по ГОСТ и по status\n",
    "df_stock_and_sales = (df_stock_and_sales\n",
    "                      .sort_values(['tip_product', 'status'], ascending=(False, False))\n",
    "                      .reset_index(drop=True)\n",
    "                     )"
   ]
  },
  {
   "cell_type": "code",
   "execution_count": null,
   "id": "9437b9ce",
   "metadata": {},
   "outputs": [],
   "source": [
    "printer(\" \")\n",
    "printer('Объединяем_остатки_и_продажи')\n",
    "printer('df_stock_and_sales = concat(df_stock_tip, df_order_tip)')\n",
    "printer(\" \")\n",
    "printer('Делаем сортировку по TIP и по status')\n",
    "printer(\" \")\n",
    "printer('Проверяем перед выводом графиков df_stock_and_sales')\n",
    "printer('Остатки: status == stock',   len(df_stock_and_sales.query('status == \"stock\"'))  )\n",
    "printer('Продажи: status == sales',    len(df_stock_and_sales.query('status == \"sales\"'))  )\n",
    "printer('df_stock_and_sales[tip_product].head(4)', df_stock_and_sales['tip_product'].head(4))\n",
    "printer('df_stock_and_sales[tip_product].tail(4)', df_stock_and_sales['tip_product'].tail(4))\n",
    "printer(\" \")"
   ]
  },
  {
   "cell_type": "code",
   "execution_count": null,
   "id": "e6362511-d8cb-4f6b-9185-7a82a84d6984",
   "metadata": {},
   "outputs": [],
   "source": []
  },
  {
   "cell_type": "markdown",
   "id": "4861bb9e-170a-4a9a-8e64-4c0dd819d48b",
   "metadata": {},
   "source": [
    "# Формируем_столбцы_для_вывода"
   ]
  },
  {
   "cell_type": "code",
   "execution_count": null,
   "id": "87759728",
   "metadata": {},
   "outputs": [],
   "source": [
    "# создаем список столбцов для вывода\n",
    "\n",
    "lst_columns_for_charts = [\n",
    "    'status', 'tip_product', 'code_1c', 'orders_sum_tip',\n",
    "    'abc_tip',  'liq_group', 'last_stock',\n",
    "    'order_freq',\n",
    "    'stock_sales2', 'stock_purch2', 'how_long_to_sale', 'true_percent',\n",
    "    'true_receipt', 'brand',\n",
    "# 'liq_index',\n",
    "    \n",
    "#'variab', 'xyz',\n",
    "    \n",
    "#'order_psc', 'orders_sum_gost', 'abc_gost', 'abc_marg', 'abc_rent', 'adc_w',\n",
    "#'true_sales', 'rent_rub',  'turnover',\n",
    "#'purch_sum', 'purch_mean', 'margin_mean',\n",
    "#'mean_stock_whole_period', 'price_mean', 'sales_half_year', 'percent',   \n",
    "#'all_sales_whole_period',  'stock_purch1', 'stock_purch2', 'stock_sales1', 'stock_sales2',\n",
    "\n",
    "#'mean_st_4', 'order_freq', \n",
    "#'mean_sales_whole_period',  'weight_psc_round', \n",
    "#'abc_M', 'abc_L', 'abc_H', 'abc_O',\n",
    "#'margin_sum', 'margin_cums_rub', 'sales_cums_rub', 'margin_perc_rub', 'margin_mean', \n",
    "#'sales_perc_rub',  'lmho',\n",
    "   ]"
   ]
  },
  {
   "cell_type": "code",
   "execution_count": null,
   "id": "74863502-6c31-44bd-b73e-52d280311668",
   "metadata": {},
   "outputs": [],
   "source": []
  },
  {
   "cell_type": "code",
   "execution_count": null,
   "id": "c5fee190",
   "metadata": {},
   "outputs": [],
   "source": [
    "# создаем df из df_stock_and_sales, устанавливаем нужный порядок столбцов\n",
    "# убираем лишние столбцы\n",
    "df = df_stock_and_sales[lst_columns_for_charts + lst_stock_sort]"
   ]
  },
  {
   "cell_type": "code",
   "execution_count": null,
   "id": "ea842954",
   "metadata": {},
   "outputs": [],
   "source": [
    "df.loc[:, ['status', 'tip_product', 'code_1c']] = df.loc[:, ['status', 'tip_product', 'code_1c']].astype(str)"
   ]
  },
  {
   "cell_type": "code",
   "execution_count": null,
   "id": "dd4a9dcc",
   "metadata": {},
   "outputs": [],
   "source": [
    "# переименовываем столбцы\n",
    "df = df.rename(columns={\n",
    "    'status':         'статус',\n",
    "    'tip_product':    'ТИП',\n",
    "    'code_1c':        'Код1С',\n",
    "    'orders_sum_tip': 'сумма_продаж',\n",
    "    'order_freq':     'частота',\n",
    "    'abc_tip':        'абс_тип',\n",
    "    'liq_group':    'ликвидность',\n",
    "    'last_stock':   'последний_остаток',\n",
    "    'stock_sales2': 'склад_в_прод2',\n",
    "    'stock_purch2': 'склад_в_закуп2',\n",
    "    'true_percent': 'нет_продаж',\n",
    "    'true_receipt': 'приход',\n",
    "    'turnover':'оборачиваемость',\n",
    "                        })"
   ]
  },
  {
   "cell_type": "code",
   "execution_count": null,
   "id": "0fe8fadf",
   "metadata": {},
   "outputs": [],
   "source": [
    "# убираем inf, используем numpy\n",
    "df.replace([np.inf , -np.inf ], 0 , inplace= True )\n",
    "# df = df.replace ( r'^\\s\\*$' , np.nan , regex= True )\n",
    "\n",
    "df = df.where(df.notnull(), None)\n",
    "\n",
    "# заполняем нулями\n",
    "df = df.fillna(0)"
   ]
  },
  {
   "cell_type": "code",
   "execution_count": null,
   "id": "a8027964",
   "metadata": {},
   "outputs": [],
   "source": []
  },
  {
   "cell_type": "markdown",
   "id": "dc63d8c0",
   "metadata": {},
   "source": [
    "# Добавление данных на страницу"
   ]
  },
  {
   "cell_type": "code",
   "execution_count": null,
   "id": "0f73221d",
   "metadata": {},
   "outputs": [],
   "source": [
    "# время для формирования имени файла\n",
    "time_start = DT.datetime.now(DT.timezone.utc).astimezone()\n",
    "time_format = \"_%Y-%m-%d_%H-%M\"\n",
    "time = str(f\"{time_start:{time_format}}\")\n",
    "\n",
    "# from xlsxwriter.workbook import Workbook\n",
    "workbook = Workbook(\"out/illiquid\"+time+\".xlsx\")\n",
    "# формирование страницы\n",
    "worksheet = workbook.add_worksheet('ABC_charts')\n",
    "\n",
    "# формирование заголовков\n",
    "headings = df.columns.values           #lst_columns_for_charts + lst_stock_sort\n",
    "\n",
    "                    #строка, столбец, строка, столбец\n",
    "worksheet.autofilter(0, 1, 0, len(df.columns))      # добавляем автофильтр\n",
    "worksheet.freeze_panes(1, 1)                        # закрепляем первую строку и первый столбец\n",
    "\n",
    "worksheet.set_column('A:A', 137)        # ширина первого столбца\n",
    "worksheet.write_row(\"B1\", headings)     # добавляем заголовки\n",
    "\n",
    "worksheet.set_column(1, len(df.columns), 2)     # устанавливаем ширину столбцов 2мм\n",
    "worksheet.set_column(2, len(df.columns), 8)     # устанавливаем ширину столбцов 6мм\n",
    "worksheet.set_column(3, len(df.columns), 6)     # устанавливаем ширину столбцов 6мм\n",
    "\n",
    "# создаем список координат (А2, А3...) начинаются с А2\n",
    "# поэтому первое значение 0+2\n",
    "list_add_data = []\n",
    "\n",
    "for i in range(0, len(df)):\n",
    "    list_add_data.append('B' + str(i+2))\n",
    "    \n",
    "# вставляем данные на страницу (А2, А3...)\n",
    "for i, ii in zip(range(0, len(df)), list_add_data):\n",
    "    \n",
    "    worksheet.set_row(i+1, 95)            # задаем высоту строки\n",
    "    worksheet.write_row(ii, df.loc[i])    # вставляем данные\n",
    "\n",
    "# проверить данные \n",
    "# workbook.close()"
   ]
  },
  {
   "cell_type": "code",
   "execution_count": null,
   "id": "8456b125-c2f1-44fe-a1f0-1f59e19b9861",
   "metadata": {},
   "outputs": [],
   "source": []
  },
  {
   "cell_type": "markdown",
   "id": "d47f1aaf",
   "metadata": {},
   "source": [
    "# Формирование категорий и значений"
   ]
  },
  {
   "cell_type": "code",
   "execution_count": null,
   "id": "2af50626",
   "metadata": {},
   "outputs": [],
   "source": [
    "# объявляем переменые column_chart0 и line_chart1 \n",
    "list_name_column = []  \n",
    "list_name_chart = []   \n",
    "\n",
    "for i in range(0, int(len(df)/2)):\n",
    "    list_name_column.append('column_chart'+str(i))  # столбчатые диаграммы\n",
    "    list_name_chart.append('line_chart'+str(i))     # линейные диаграммы\n",
    "\n",
    "\n",
    "# создаем списки и добавляем словари со значением\n",
    "# \"categories\": \"=Sheet1!$D$1:$I$1\"\n",
    "# \"values\": ['Sheet1', i, 3, i, 8],    \n",
    "    \n",
    "list_column = []\n",
    "list_chart = []\n",
    "\n",
    "list_column_dic = []\n",
    "list_line_dic = []\n",
    "\n",
    "# 1,3,5   2,4,6\n",
    "# i координаты для входных данных по нисходящей\n",
    "# координаты столбцов для входных данных\n",
    "w = len(lst_columns_for_charts)+1  # длинна списка заголовков == первому столбцу с неделями\n",
    "for i, ii in zip(range(1, len(df)+1, 2), range(2, len(df)+1, 2)):\n",
    "                          # координаты для категорий               # {\"categories\": \"=Sheet1!$N$1:$ER$1\",\n",
    "                                          # страница, строка, столбец, строка, столбец\n",
    "    \n",
    "    list_column_dic.append({\"categories\": ['ABC_charts', 0, w, 0, len(df.columns)],\n",
    "                            \"values\":     ['ABC_charts', i, w, i, len(df.columns)],})\n",
    "                                        # страница, строка, столбец, строка, столбец\n",
    "    list_line_dic.append({\"categories\": ['ABC_charts', 0, w, 0, len(df.columns)],\n",
    "                            \"values\":   ['ABC_charts', ii, w, ii, len(df.columns)],})\n",
    "\n",
    "\n",
    "for i_column, i_column_dic in zip(list_name_column, list_column_dic):\n",
    "    i_column = workbook.add_chart({\"type\": \"line\"})    # объявляем переменную\n",
    "    i_column.add_series(i_column_dic)                  # добавляем name, categ-s, values\n",
    "    list_column.append(i_column)                       # добавляем в новый список\n",
    "\n",
    "for i_line, i_line_dic in zip(list_name_chart, list_line_dic):\n",
    "    i_line = workbook.add_chart({\"type\": \"column\"})\n",
    "    i_line.add_series(i_line_dic)\n",
    "    list_chart.append(i_line)\n",
    "    \n",
    "# в этот список добавляем переменные для объединения\n",
    "list_for_combine = []                         \n",
    "\n",
    "for i_column, i_chart, i  in zip(list_column, list_chart, range(0, len(df), 2)):\n",
    "    i_column.combine(i_chart)                            # объединение столбцы + линии\n",
    "    i_column.set_legend({\"position\": \"none\"})            # удаление легенды\n",
    "    i_column.set_title({\"name\": df.loc[i, 'ТИП']})      # заголовок .set_title({\"name\": df.loc[i, 'gost']}) \n",
    "    #i_column.set_y_axis({\"name\": df.loc[i, 'code_1c']})  # подпись по оси Y\n",
    "    list_for_combine.append(i_column)"
   ]
  },
  {
   "cell_type": "code",
   "execution_count": null,
   "id": "79a70325-50b6-46c6-b514-4fd86ceb1604",
   "metadata": {},
   "outputs": [],
   "source": [
    "#### Координаты_для_вставки_графиков_KK2_KK4"
   ]
  },
  {
   "cell_type": "code",
   "execution_count": null,
   "id": "5881dcb6",
   "metadata": {},
   "outputs": [],
   "source": [
    "# координаты для вставки графиков K2, K4, K6\n",
    "# CF прописывать в ручную\n",
    "\n",
    "# формируем список A->AB->WW (len 702 примерно 14 лет)\n",
    "import string\n",
    "list_alphabet_short = list(string.ascii_uppercase)\n",
    "list_alphabet_long = list(string.ascii_uppercase)\n",
    "for i in list_alphabet_short:\n",
    "    for ii in list_alphabet_short:\n",
    "        list_alphabet_long.append(i+ii)\n",
    "\n",
    "# координаты для вставки графиков K2, K4, K6\n",
    "list_k = []\n",
    "\n",
    "# из длинного списка алфавита получаем нужные буквы начала вставки графиков \n",
    "# 'CF'+'2' -> start_index+2\n",
    "start_index = 'A' #list_alphabet_long[len(df.columns)+1]\n",
    "\n",
    "for index in range(0, len(df), 2):\n",
    "    list_k.append(start_index+str(index+2))"
   ]
  },
  {
   "cell_type": "code",
   "execution_count": null,
   "id": "71c218e3-fb63-4750-9cc8-c0ca0fe03792",
   "metadata": {},
   "outputs": [],
   "source": []
  },
  {
   "cell_type": "markdown",
   "id": "9e051e67-a6ba-48d6-99bd-652f1d2fc98f",
   "metadata": {},
   "source": [
    "## на заданные координаты вставляем графики"
   ]
  },
  {
   "cell_type": "code",
   "execution_count": null,
   "id": "35e3e4bb",
   "metadata": {},
   "outputs": [],
   "source": [
    "# на заданные координаты вставляем графики\n",
    "for index_k, i_for_combine in zip(list_k, list_for_combine):\n",
    "    worksheet.insert_chart(index_k, i_for_combine, {'x_scale': 2, 'y_scale': 0.8})"
   ]
  },
  {
   "cell_type": "code",
   "execution_count": null,
   "id": "9a7c7879",
   "metadata": {},
   "outputs": [],
   "source": []
  },
  {
   "cell_type": "code",
   "execution_count": null,
   "id": "be628fbc",
   "metadata": {},
   "outputs": [],
   "source": [
    "# убираем lst\n",
    "df_no_order['code_1c'] = df_no_order['code_1c'].astype(str)\n",
    "\n",
    "# добавление второй страницы\n",
    "worksheet = workbook.add_worksheet('No_sales')\n",
    "worksheet.freeze_panes(1, 0)                      # закрепляем первую строку и 0 столбец\n",
    "# worksheet.write(0, 1, \"abcd\") ### 0 строка, 1 столбец\n",
    "# вставляем данные на страницу где i номер строки\n",
    "df_no_order = df_no_order.reset_index(drop=True)\n",
    "for i in range(0, len(df_no_order)):\n",
    "    if i == 0:\n",
    "        worksheet.write_row(i, 0, df_no_order.columns.values)\n",
    "        worksheet.write_row(i+1, 0, df_no_order.loc[i])\n",
    "    else:\n",
    "        worksheet.write_row(i+1, 0, df_no_order.loc[i])    # вставляем данные"
   ]
  },
  {
   "cell_type": "code",
   "execution_count": null,
   "id": "46013dff",
   "metadata": {},
   "outputs": [],
   "source": [
    "# убираем lst\n",
    "df_no_stock['code_1c'] = df_no_stock['code_1c'].astype(str)\n",
    "\n",
    "# добавление второй страницы\n",
    "worksheet = workbook.add_worksheet('No_stock')\n",
    "worksheet.freeze_panes(1, 0)                      # закрепляем первую строку и 0 столбец\n",
    "# worksheet.write(0, 1, \"abcd\") ### 0 строка, 1 столбец\n",
    "# вставляем данные на страницу где i номер строки\n",
    "df_no_stock = df_no_stock.reset_index(drop=True)\n",
    "for i in range(0, len(df_no_stock)):\n",
    "    if i == 0:\n",
    "        worksheet.write_row(i, 0, df_no_stock.columns.values)\n",
    "        worksheet.write_row(i+1, 0, df_no_stock.loc[i])\n",
    "    else:\n",
    "        worksheet.write_row(i+1, 0, df_no_stock.loc[i])    # вставляем данные"
   ]
  },
  {
   "cell_type": "code",
   "execution_count": null,
   "id": "379cd453",
   "metadata": {},
   "outputs": [],
   "source": [
    "# добавление третьей страницы\n",
    "worksheet = workbook.add_worksheet('Period')\n",
    "worksheet.write(1, 1, \"Дата первой отгрузки в периоде: \"+str(sales_first_date)) ### 0 строка, 1 столбец\n",
    "worksheet.write(2, 1, \"Дата последней отгрузки в периоде: \"+str(sales_last_date))\n",
    "\n",
    "worksheet.write(3, 1, \"Продажи, первая неделя в периоде: \"\n",
    "                +str(datetime.strptime(str(sales_first_date).replace(' 00:00:00', ''), '%Y-%m-%d').strftime('%V-%Y'))) \n",
    "worksheet.write(4, 1, \"Продажи, последняя неделя в периоде: \"\n",
    "                +str(datetime.strptime(str(sales_last_date).replace(' 00:00:00', ''), '%Y-%m-%d').strftime('%V-%Y')))\n",
    "\n",
    "worksheet.write(6, 1, \"Остатки, первая неделя в периоде: \"+str(stock_first_week)) \n",
    "worksheet.write(7, 1, \"Остатки, последняя неделя в периоде: \"+str(stock_last_week));"
   ]
  },
  {
   "cell_type": "code",
   "execution_count": null,
   "id": "edccf1cb-562f-496e-b709-0c275973ead0",
   "metadata": {},
   "outputs": [],
   "source": []
  },
  {
   "cell_type": "markdown",
   "id": "e700a6ba-a5b3-4211-a800-d8846a680636",
   "metadata": {},
   "source": [
    "## добавление df_ssr"
   ]
  },
  {
   "cell_type": "code",
   "execution_count": null,
   "id": "9e66bf28",
   "metadata": {},
   "outputs": [],
   "source": [
    "# убираем inf, используем numpy\n",
    "df_ssr.replace([np.inf , -np.inf ], 0 , inplace= True )\n",
    "# df = df.replace ( r'^\\s\\*$' , np.nan , regex= True )\n",
    "df_ssr = df_ssr.where(df_ssr.notnull(), None)\n",
    "# заполняем нулями\n",
    "df_ssr = df_ssr.fillna(0)\n",
    "\n",
    "# добавление df_ssr\n",
    "worksheet = workbook.add_worksheet('df_ssr')\n",
    "                    #строка, столбец, строка, столбец\n",
    "worksheet.autofilter(0, 0, 0, len(df_ssr.columns))      # добавляем автофильтр\n",
    "worksheet.freeze_panes(1, 2)                      # закрепляем первую строку и второй столбец\n",
    "# worksheet.write(0, 1, \"abcd\") ### 0 строка, 1 столбец\n",
    "# вставляем данные на страницу где i номер строки\n",
    "df_ssr = df_ssr.reset_index(drop=True)\n",
    "for i in range(0, len(df_ssr)):\n",
    "    if i == 0:\n",
    "        worksheet.write_row(i, 0, df_ssr.columns.values)\n",
    "        worksheet.write_row(i+1, 0, df_ssr.loc[i])\n",
    "    else:\n",
    "        worksheet.write_row(i+1, 0, df_ssr.loc[i])    # вставляем данные"
   ]
  },
  {
   "cell_type": "markdown",
   "id": "87fc0ba6",
   "metadata": {},
   "source": [
    "## добавляем журнал"
   ]
  },
  {
   "cell_type": "code",
   "execution_count": null,
   "id": "a182e4de",
   "metadata": {},
   "outputs": [],
   "source": [
    "# добавление страницы\n",
    "worksheet = workbook.add_worksheet('Журнал')\n",
    "# ширина первого столбца\n",
    "worksheet.set_column('A:A', 40)        \n",
    "\n",
    "# записываем данные\n",
    "for row_num, row_data in enumerate(printer.cg):\n",
    "    type_data = type(row_data)\n",
    "    if isinstance(row_data, (str, int, float)):\n",
    "        worksheet.write(row_num, 0, str(row_data))\n",
    "    else:\n",
    "        try:\n",
    "            # преобразование в строки\n",
    "            cleaned_data = [str(item) if item is not None else \"\" for item in row_data]\n",
    "            worksheet.write_row(row_num, 0, cleaned_data)\n",
    "        except Exception as e:\n",
    "            print(f\"Ошибка в строке {row_num}: {e}\")\n",
    "            worksheet.write_row(row_num, 0, f\"Ошибка в строке {row_num}: {e}\")\n",
    "            continue"
   ]
  },
  {
   "cell_type": "code",
   "execution_count": null,
   "id": "67811c99",
   "metadata": {},
   "outputs": [],
   "source": [
    "workbook.close()"
   ]
  },
  {
   "cell_type": "markdown",
   "id": "075c0749",
   "metadata": {},
   "source": [
    "# Время выполнения проекта"
   ]
  },
  {
   "cell_type": "code",
   "execution_count": null,
   "id": "388179fa",
   "metadata": {},
   "outputs": [],
   "source": [
    "# время завершени выполнения проекта\n",
    "time_project_finish = DT.datetime.now(DT.timezone.utc).astimezone()\n",
    "print('Время выполнения проекта:', time_project_finish - time_project_start )"
   ]
  },
  {
   "cell_type": "code",
   "execution_count": null,
   "id": "a0d1c1b3",
   "metadata": {},
   "outputs": [],
   "source": [
    "# отчет по группам АБС и неликвиду\n",
    "df_receipt_stat_liq = (df_receipt.groupby(['liq_group'])\n",
    "                   .agg({'tip_product': 'count'})\n",
    "                   .reset_index()\n",
    "                   .sort_values(by='liq_group', ascending=True))\n",
    "\n",
    "df_stat_abc = (df_stock_and_sales.groupby(['abc_tip'])\n",
    "                   .agg({'tip_product': 'count'})\n",
    "                   .reset_index()\n",
    "                   .sort_values(by='abc_tip', ascending=True))"
   ]
  },
  {
   "cell_type": "code",
   "execution_count": null,
   "id": "28587fda-f886-4543-b6a8-7f836eb3cb2d",
   "metadata": {},
   "outputs": [],
   "source": [
    "df_receipt_stat_liq"
   ]
  },
  {
   "cell_type": "code",
   "execution_count": null,
   "id": "a66b957d-2642-4d5e-bc04-c94c5f1b62d2",
   "metadata": {},
   "outputs": [],
   "source": [
    "df_stat_abc"
   ]
  },
  {
   "cell_type": "code",
   "execution_count": null,
   "id": "e2261115",
   "metadata": {},
   "outputs": [],
   "source": []
  }
 ],
 "metadata": {
  "kernelspec": {
   "display_name": "base",
   "language": "python",
   "name": "python3"
  },
  "language_info": {
   "codemirror_mode": {
    "name": "ipython",
    "version": 3
   },
   "file_extension": ".py",
   "mimetype": "text/x-python",
   "name": "python",
   "nbconvert_exporter": "python",
   "pygments_lexer": "ipython3",
   "version": "3.10.9"
  }
 },
 "nbformat": 4,
 "nbformat_minor": 5
}
